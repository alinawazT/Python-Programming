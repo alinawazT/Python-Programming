{
 "cells": [
  {
   "attachments": {},
   "cell_type": "markdown",
   "id": "336eeddf",
   "metadata": {},
   "source": [
    "## Week 01, Lab 00\n",
    "### 1.\tGo to the website https://www.anaconda.com/download\n",
    "### 2. Download for Window or Mac\n",
    "### 3. Agree and accept all instruction"
   ]
  },
  {
   "cell_type": "code",
   "execution_count": 2,
   "id": "78c7f8e4",
   "metadata": {},
   "outputs": [
    {
     "name": "stdout",
     "output_type": "stream",
     "text": [
      "Enter your NameAli\n",
      "Ali\n"
     ]
    }
   ],
   "source": [
    "# First Program\n",
    "name = input(\"Enter your Name\")\n",
    "print(name)"
   ]
  },
  {
   "attachments": {},
   "cell_type": "markdown",
   "id": "7867312c",
   "metadata": {},
   "source": [
    "## Week 02, Lab 01\n",
    "### This lab maps to CLO #1\n",
    "### In this lab, you are asked to write algorithms using pseudocode, which are the steps for solving a problem in a clear and concise language. An example is given below:\n"
   ]
  },
  {
   "cell_type": "markdown",
   "id": "2b3d637c",
   "metadata": {},
   "source": [
    "### 1.Write pseudocode to calculate the sale price of an item \n",
    "### after the discount is subtracted. Suppose the discount is 20%."
   ]
  },
  {
   "cell_type": "markdown",
   "id": "61a0bdc5",
   "metadata": {},
   "source": [
    "START\n",
    "\n",
    "1. INPUT: originalPrice\n",
    "2. Set discountRate = 0.20\n",
    "3. Calculate discountAmount = originalPrice * discountRate\n",
    "4. Calculate salePrice = originalPrice - discountAmount\n",
    "5. OUTPUT: salePrice\n",
    "\n",
    "END"
   ]
  },
  {
   "cell_type": "markdown",
   "id": "86f1313c",
   "metadata": {},
   "source": [
    "### 2.\tWrite a pseudocode to calculates the average of three marks.\n",
    "\n",
    "START\n",
    "\n",
    "1. INPUT: mark1, mark2, mark3\n",
    "2. Calculate totalMarks = mark1 + mark2 + mark3\n",
    "3. Calculate average = totalMarks / 3\n",
    "4. OUTPUT: average\n",
    "\n",
    "END\n"
   ]
  },
  {
   "cell_type": "markdown",
   "id": "3af464c9",
   "metadata": {},
   "source": [
    "### 3.\tA car's miles-per-gallon (MPG) can be calculated with the following formula:\n",
    "\n",
    "###                              MPG = Miles driven / Gallons of gas used\n",
    "\n",
    "### Write a pseudocode for a program that calculates the car's MPG and display the result.\n",
    "\n",
    "START\n",
    "\n",
    "1. INPUT: milesDriven, gallonsUsed\n",
    "2. Calculate MPG = milesDriven / gallonsUsed\n",
    "3. OUTPUT: MPG\n",
    "\n",
    "END\n"
   ]
  },
  {
   "cell_type": "markdown",
   "id": "a13a2c64",
   "metadata": {},
   "source": [
    "### 4.\tOne pound is equivalent to 0.454 kilograms. Write a pseudocode for a program that calculates and displays the mass of the object in kilograms.\n",
    "\n",
    "START\n",
    "\n",
    "1. INPUT: massInPounds\n",
    "2. Set conversionFactor = 0.454\n",
    "3. Calculate massInKilograms = massInPounds * conversionFactor\n",
    "4. OUTPUT: massInKilograms\n",
    "\n",
    "END\n"
   ]
  },
  {
   "attachments": {},
   "cell_type": "markdown",
   "id": "c26d781f",
   "metadata": {},
   "source": [
    "## Week 03, Lab 02\n",
    "### Creating very simple program, correcting syntax, logical errors and running the program. \n",
    "### CLO: This lab maps to CLO #1"
   ]
  },
  {
   "cell_type": "markdown",
   "id": "e2c290c4",
   "metadata": {},
   "source": [
    "### 1.\tWrite Python code that prompts the user to enter his or her age and assigns the user’s input to an integer variable named age."
   ]
  },
  {
   "cell_type": "code",
   "execution_count": 4,
   "id": "cffc73ba",
   "metadata": {},
   "outputs": [
    {
     "name": "stdout",
     "output_type": "stream",
     "text": [
      "Please enter your age: 23\n",
      "You are 23 years old.\n"
     ]
    }
   ],
   "source": [
    "# Prompt the user for their age\n",
    "user_input = input(\"Please enter your age: \")\n",
    "\n",
    "# Convert the user input to an integer and assign to the variable \"age\"\n",
    "age = int(user_input)\n",
    "\n",
    "print(\"You are\", age, \"years old.\")"
   ]
  },
  {
   "cell_type": "markdown",
   "id": "c7262964",
   "metadata": {},
   "source": [
    "### 2.\tWrite Python code that prompts the user to enter his or her favorite color and assigns the user’s input to a variable named color.\n"
   ]
  },
  {
   "cell_type": "code",
   "execution_count": 5,
   "id": "38723521",
   "metadata": {},
   "outputs": [
    {
     "name": "stdout",
     "output_type": "stream",
     "text": [
      "Please enter your favorite color: red\n",
      "Your favorite color is: red\n"
     ]
    }
   ],
   "source": [
    "# Prompt the user for their favorite color\n",
    "color = input(\"Please enter your favorite color: \")\n",
    "\n",
    "print(\"Your favorite color is:\", color)\n"
   ]
  },
  {
   "cell_type": "markdown",
   "id": "b7fba20b",
   "metadata": {},
   "source": [
    "### 3.\tAssume the variables result, w, x, y, and z are all integers, and that w = 5, x = 4, y = 8, and z = 2.\n",
    "### What value will be stored in result after each of the following statements execute?\n",
    "### a.\tresult = x + y\n",
    "### b.\tresult = z * 2\n",
    "### c.\tresult = y / x\n",
    "### d.\tresult = y – z\n",
    "### e.\tresult = w // z"
   ]
  },
  {
   "cell_type": "code",
   "execution_count": 6,
   "id": "22cf087f",
   "metadata": {},
   "outputs": [
    {
     "name": "stdout",
     "output_type": "stream",
     "text": [
      "a. result = 12\n",
      "b. result = 4\n",
      "c. result = 2.0\n",
      "d. result = 6\n",
      "e. result = 2\n"
     ]
    }
   ],
   "source": [
    "# Given variables\n",
    "w = 5\n",
    "x = 4\n",
    "y = 8\n",
    "z = 2\n",
    "\n",
    "# a. result = x + y\n",
    "result_a = x + y\n",
    "print(\"a. result =\", result_a)  # Expected output: 12\n",
    "\n",
    "# b. result = z * 2\n",
    "result_b = z * 2\n",
    "print(\"b. result =\", result_b)  # Expected output: 4\n",
    "\n",
    "# c. result = y / x\n",
    "result_c = y / x\n",
    "print(\"c. result =\", result_c)  # Expected output: 2.0\n",
    "\n",
    "# d. result = y - z\n",
    "result_d = y - z\n",
    "print(\"d. result =\", result_d)  # Expected output: 6\n",
    "\n",
    "# e. result = w // z\n",
    "result_e = w // z\n",
    "print(\"e. result =\", result_e)  # Expected output: 2\n"
   ]
  },
  {
   "cell_type": "markdown",
   "id": "ad3f198c",
   "metadata": {},
   "source": [
    "### 4.\tWrite a Python statement that assigns the product of 10 and 15 to the variable product.\n"
   ]
  },
  {
   "cell_type": "code",
   "execution_count": 7,
   "id": "a60ab126",
   "metadata": {},
   "outputs": [
    {
     "name": "stdout",
     "output_type": "stream",
     "text": [
      "150\n"
     ]
    }
   ],
   "source": [
    "product = 10 * 15\n",
    "print(product)"
   ]
  },
  {
   "cell_type": "markdown",
   "id": "bdc07975",
   "metadata": {},
   "source": [
    "### 5.\tWhat would the following display?\n",
    "### a = 5\n",
    "### b = 2\n",
    "### c = 3\n",
    "### result = a + b * c\n",
    "### print(result)"
   ]
  },
  {
   "cell_type": "code",
   "execution_count": 8,
   "id": "b331357d",
   "metadata": {},
   "outputs": [
    {
     "name": "stdout",
     "output_type": "stream",
     "text": [
      "11\n"
     ]
    }
   ],
   "source": [
    "a = 5\n",
    "b = 2\n",
    "c = 3\n",
    "result = a + b * c\n",
    "print(result)"
   ]
  },
  {
   "cell_type": "markdown",
   "id": "548753cc",
   "metadata": {},
   "source": [
    "### 6.\tWhat would the following display?\n",
    "### num = 99\n",
    "### num = 5\n",
    "### print(num)"
   ]
  },
  {
   "cell_type": "code",
   "execution_count": 9,
   "id": "21232481",
   "metadata": {},
   "outputs": [
    {
     "name": "stdout",
     "output_type": "stream",
     "text": [
      "5\n"
     ]
    }
   ],
   "source": [
    "num = 99\n",
    "num = 5\n",
    "print(num)\n"
   ]
  },
  {
   "cell_type": "markdown",
   "id": "c8888ee6",
   "metadata": {},
   "source": [
    "### 1.\tPersonal Information\n",
    "### Write a program that displays the following information:\n",
    "### •\tYour name.\n",
    "### •\tYour address, with city, state, and ZIP.\n",
    "### •\tYour telephone number.\n",
    "### •\tYour college major."
   ]
  },
  {
   "cell_type": "code",
   "execution_count": 10,
   "id": "59abe27c",
   "metadata": {},
   "outputs": [
    {
     "name": "stdout",
     "output_type": "stream",
     "text": [
      "Name: John Doe\n",
      "Address: 123 Main St.\n",
      "City, State, ZIP: Anytown, CA 12345\n",
      "Telephone Number: 555-1234\n",
      "College Major: Computer Science\n"
     ]
    }
   ],
   "source": [
    "# Personal details\n",
    "name = \"John Doe\"\n",
    "address = \"123 Main St.\"\n",
    "city = \"Anytown\"\n",
    "state = \"CA\"\n",
    "zip_code = \"12345\"\n",
    "telephone_number = \"555-1234\"\n",
    "college_major = \"Computer Science\"\n",
    "    \n",
    "# Displaying the information\n",
    "print(\"Name:\", name)\n",
    "print(\"Address:\", address)\n",
    "print(\"City, State, ZIP:\", city + \",\", state, zip_code)\n",
    "print(\"Telephone Number:\", telephone_number)\n",
    "print(\"College Major:\", college_major)"
   ]
  },
  {
   "cell_type": "markdown",
   "id": "d23d41c6",
   "metadata": {},
   "source": [
    "### 2.\tPounds to Kilograms\n",
    "### One pound is equivalent to 0.454 kilograms. Write a program that asks the user to enter the mass of an object in pounds and then calculates and displays the mass of the object in kilograms."
   ]
  },
  {
   "cell_type": "code",
   "execution_count": 11,
   "id": "dae4604e",
   "metadata": {},
   "outputs": [
    {
     "name": "stdout",
     "output_type": "stream",
     "text": [
      "Enter the mass of the object in pounds: 34\n",
      "The mass of the object in kilograms is: 15.436 kg\n"
     ]
    }
   ],
   "source": [
    "# Conversion factor\n",
    "pound_to_kg = 0.454\n",
    "\n",
    "# Prompting user for the mass in pounds\n",
    "mass_pounds = float(input(\"Enter the mass of the object in pounds: \"))\n",
    "\n",
    "# Calculating the mass in kilograms\n",
    "mass_kg = mass_pounds * pound_to_kg\n",
    "\n",
    "# Displaying the result\n",
    "print(f\"The mass of the object in kilograms is: {mass_kg} kg\")"
   ]
  },
  {
   "cell_type": "markdown",
   "id": "a6a3c49d",
   "metadata": {},
   "source": [
    "### 3.\tTotal Purchase\n",
    "### A customer in a store is purchasing five items. Write a program that asks for the price of each item, then displays the subtotal of the sale, the amount of sales tax, and the total. Assume the sales tax is 7 percent."
   ]
  },
  {
   "cell_type": "code",
   "execution_count": 12,
   "id": "20147b20",
   "metadata": {},
   "outputs": [
    {
     "name": "stdout",
     "output_type": "stream",
     "text": [
      "Enter the price of item 1: 3\n",
      "Enter the price of item 2: 3\n",
      "Enter the price of item 3: 3\n",
      "Enter the price of item 4: 34\n",
      "Enter the price of item 5: 5\n",
      "Subtotal: $48.00\n",
      "Sales Tax (7%): $3.36\n",
      "Total: $51.36\n"
     ]
    }
   ],
   "source": [
    "# Number of items\n",
    "num_items = 5\n",
    "\n",
    "# Sales tax rate\n",
    "sales_tax_rate = 0.07\n",
    "\n",
    "# Get the price of each item from the user\n",
    "prices = [float(input(f\"Enter the price of item {i + 1}: \")) for i in range(num_items)]\n",
    "\n",
    "# Calculate the subtotal of the sale\n",
    "subtotal = sum(prices)\n",
    "\n",
    "# Calculate the amount of sales tax\n",
    "sales_tax = subtotal * sales_tax_rate\n",
    "\n",
    "# Calculate the total purchase amount\n",
    "total = subtotal + sales_tax\n",
    "\n",
    "# Display the results\n",
    "print(f\"Subtotal: ${subtotal:.2f}\")\n",
    "print(f\"Sales Tax (7%): ${sales_tax:.2f}\")\n",
    "print(f\"Total: ${total:.2f}\")"
   ]
  },
  {
   "cell_type": "markdown",
   "id": "24dfee3c",
   "metadata": {},
   "source": [
    "### 4.\tDistance Traveled\n",
    "### Assuming there are no accidents or delays, the distance that a car travels down the interstate can be calculated with the following formula: \n",
    "### Distance = Speed * Time"
   ]
  },
  {
   "cell_type": "code",
   "execution_count": 13,
   "id": "87b56617",
   "metadata": {},
   "outputs": [
    {
     "name": "stdout",
     "output_type": "stream",
     "text": [
      "Enter the speed of the car in miles per hour: 123\n",
      "Enter the time traveled in hours: 34\n",
      "The car traveled a distance of 4182.0 miles.\n"
     ]
    }
   ],
   "source": [
    "# Get the speed of the car from the user\n",
    "speed = float(input(\"Enter the speed of the car in miles per hour: \"))\n",
    "\n",
    "# Get the time traveled from the user\n",
    "time = float(input(\"Enter the time traveled in hours: \"))\n",
    "\n",
    "# Calculate the distance traveled\n",
    "distance = speed * time\n",
    "\n",
    "# Display the result\n",
    "print(f\"The car traveled a distance of {distance} miles.\")\n"
   ]
  },
  {
   "attachments": {},
   "cell_type": "markdown",
   "id": "d111950c",
   "metadata": {},
   "source": [
    "## Week 04, Lab 03\n",
    "### Coding simple algorithm into Python code. Trace simple algorithms to generate output\n",
    "### CLO: This lab maps to CLO #1"
   ]
  },
  {
   "cell_type": "markdown",
   "id": "6f4c418d",
   "metadata": {},
   "source": [
    "### 1.\tWrite a Python statement that subtracts the variable down_payment from the variable total and assigns the result to the variable due.\n"
   ]
  },
  {
   "cell_type": "code",
   "execution_count": 14,
   "id": "0e565b9d",
   "metadata": {},
   "outputs": [
    {
     "name": "stdout",
     "output_type": "stream",
     "text": [
      "5\n"
     ]
    }
   ],
   "source": [
    "total = 10\n",
    "down_payment = 5\n",
    "due = total - down_payment\n",
    "print(due)"
   ]
  },
  {
   "cell_type": "markdown",
   "id": "90c852bd",
   "metadata": {},
   "source": [
    "### 2.\tWrite a Python statement that multiplies the variable subtotal by 0.15 and assigns the result to the variable total."
   ]
  },
  {
   "cell_type": "code",
   "execution_count": 15,
   "id": "caec9c74",
   "metadata": {},
   "outputs": [
    {
     "name": "stdout",
     "output_type": "stream",
     "text": [
      "Enter the subtotal: 34\n",
      "Total after multiplying by 0.15 is: 5.1\n"
     ]
    }
   ],
   "source": [
    "# Prompt the user for the subtotal\n",
    "subtotal = float(input(\"Enter the subtotal: \"))\n",
    "\n",
    "# Calculate the total\n",
    "total = subtotal * 0.15\n",
    "\n",
    "# Display the result\n",
    "print(f\"Total after multiplying by 0.15 is: {total}\")"
   ]
  },
  {
   "cell_type": "markdown",
   "id": "37ffb642",
   "metadata": {},
   "source": [
    "### 3.\tMiles-per-Gallon \n",
    "\n",
    "### A car's miles-per-gallon (MPG) can be calculated with the following formula:\n",
    "\n",
    "### MPG =Miles driven / Gallons of gas used. \n",
    "\n",
    "### Write a program that asks the user for the number of miles driven and the gallons of gas used. It should calculate the car's MPG and display the result."
   ]
  },
  {
   "cell_type": "code",
   "execution_count": 16,
   "id": "5cfdd260",
   "metadata": {},
   "outputs": [
    {
     "name": "stdout",
     "output_type": "stream",
     "text": [
      "Enter the number of miles driven: 23\n",
      "Enter the gallons of gas used: 34\n",
      "The car's MPG (miles-per-gallon) is: 0.68\n"
     ]
    }
   ],
   "source": [
    "# Prompt the user for the number of miles driven\n",
    "miles_driven = float(input(\"Enter the number of miles driven: \"))\n",
    "\n",
    "# Prompt the user for the gallons of gas used\n",
    "gallons_used = float(input(\"Enter the gallons of gas used: \"))\n",
    "\n",
    "# Calculate the MPG\n",
    "mpg = miles_driven / gallons_used\n",
    "\n",
    "# Display the result\n",
    "print(f\"The car's MPG (miles-per-gallon) is: {mpg:.2f}\")"
   ]
  },
  {
   "cell_type": "markdown",
   "id": "38665f56",
   "metadata": {},
   "source": [
    "### Write a program that caculates the total amount of a meal purchased at a restaurant. The program should ask the user to enter the charge for the food, then calculate the amounts of a 18 percent tip and 7 percent sales tax. Display each of these amounts and the total."
   ]
  },
  {
   "cell_type": "code",
   "execution_count": 17,
   "id": "9c2ff36b",
   "metadata": {},
   "outputs": [
    {
     "name": "stdout",
     "output_type": "stream",
     "text": [
      "Enter the charge for the food: $23\n",
      "\n",
      "Food Charge: $23.00\n",
      "Tip (18%): $4.14\n",
      "Sales Tax (7%): $1.61\n",
      "Total Amount: $28.75\n"
     ]
    }
   ],
   "source": [
    "# Get the charge for the food from the user\n",
    "food_charge = float(input(\"Enter the charge for the food: $\"))\n",
    "\n",
    "# Calculate the 18% tip\n",
    "tip = food_charge * 0.18\n",
    "\n",
    "# Calculate the 7% sales tax\n",
    "sales_tax = food_charge * 0.07\n",
    "\n",
    "# Calculate the total cost\n",
    "total = food_charge + tip + sales_tax\n",
    "\n",
    "# Display the results\n",
    "print(f\"\\nFood Charge: ${food_charge:.2f}\")\n",
    "print(f\"Tip (18%): ${tip:.2f}\")\n",
    "print(f\"Sales Tax (7%): ${sales_tax:.2f}\")\n",
    "print(f\"Total Amount: ${total:.2f}\")"
   ]
  },
  {
   "attachments": {},
   "cell_type": "markdown",
   "id": "d2d70020",
   "metadata": {},
   "source": [
    "### Write a program that asks the user to enter the radius of a circle. The program should calculate and display the area and circumference of the circle using πr2 for the area and 2πr for the circumference. Hint: You can either use 3.14159 as the value of pi (π), or add the statement \"import math\" to the start of the program and then use \"math.pi\" wherever you need the value of pi in the program."
   ]
  },
  {
   "cell_type": "code",
   "execution_count": 18,
   "id": "0e1ef8ba",
   "metadata": {},
   "outputs": [
    {
     "name": "stdout",
     "output_type": "stream",
     "text": [
      "Enter the radius of the circle: 344\n",
      "\n",
      "Area of the circle: 371763.51\n",
      "Circumference of the circle: 2161.42\n"
     ]
    }
   ],
   "source": [
    "# Import the math module to get the value of pi\n",
    "import math\n",
    "\n",
    "# Get the radius of the circle from the user\n",
    "radius = float(input(\"Enter the radius of the circle: \"))\n",
    "\n",
    "# Calculate the area of the circle using πr^2\n",
    "area = math.pi * (radius ** 2)\n",
    "\n",
    "# Calculate the circumference of the circle using 2πr\n",
    "circumference = 2 * math.pi * radius\n",
    "\n",
    "# Display the results\n",
    "print(f\"\\nArea of the circle: {area:.2f}\")\n",
    "print(f\"Circumference of the circle: {circumference:.2f}\")\n"
   ]
  },
  {
   "cell_type": "markdown",
   "id": "7aa86ddb",
   "metadata": {},
   "source": [
    "### A cookie recipe calls for the following ingredients:\n",
    "### • 1.5 cups of sugar\n",
    "### • 1 cup of butter\n",
    "### • 2.75 cups of flour\n",
    "### The recipe produces 48 cookies with this amount of the ingredients. Write a program that asks the user how many cookies he or she wants to make, then displays the number of cups of each ingredient needed for the specified number of cookies."
   ]
  },
  {
   "cell_type": "code",
   "execution_count": 19,
   "id": "f638e56e",
   "metadata": {},
   "outputs": [
    {
     "name": "stdout",
     "output_type": "stream",
     "text": [
      "How many cookies do you want to make? 34\n",
      "\n",
      "To make 34 cookies, you will need:\n",
      "1.06 cups of sugar\n",
      "0.71 cups of butter\n",
      "1.95 cups of flour\n"
     ]
    }
   ],
   "source": [
    "# Constants representing the amounts of each ingredient for 48 cookies\n",
    "SUGAR_CUPS_PER_48 = 1.5\n",
    "BUTTER_CUPS_PER_48 = 1\n",
    "FLOUR_CUPS_PER_48 = 2.75\n",
    "\n",
    "# Get the desired number of cookies from the user\n",
    "num_cookies = int(input(\"How many cookies do you want to make? \"))\n",
    "\n",
    "# Calculate the scaling factor based on the desired number of cookies\n",
    "scaling_factor = num_cookies / 48\n",
    "\n",
    "# Calculate the amount of each ingredient needed\n",
    "sugar_needed = SUGAR_CUPS_PER_48 * scaling_factor\n",
    "butter_needed = BUTTER_CUPS_PER_48 * scaling_factor\n",
    "flour_needed = FLOUR_CUPS_PER_48 * scaling_factor\n",
    "\n",
    "# Display the results\n",
    "print(f\"\\nTo make {num_cookies} cookies, you will need:\")\n",
    "print(f\"{sugar_needed:.2f} cups of sugar\")\n",
    "print(f\"{butter_needed:.2f} cups of butter\")\n",
    "print(f\"{flour_needed:.2f} cups of flour\")"
   ]
  },
  {
   "cell_type": "markdown",
   "id": "141a4b27",
   "metadata": {},
   "source": [
    "### Write a program that asks the user for the number of males and the number of females registered in a class. The program should display the percentage of males and females in the class. Hint: Suppose there are 8 males and 12 females in a class. There are 20 students in the class.  \n",
    "### The percentage of males can be calculated as: 8 ÷ 20 = 0.4, or 40%. \n",
    "### The percentage of females can be calculated as 12 ÷ 20 = 0.6, or 60%."
   ]
  },
  {
   "cell_type": "code",
   "execution_count": 20,
   "id": "788c8c3d",
   "metadata": {},
   "outputs": [
    {
     "name": "stdout",
     "output_type": "stream",
     "text": [
      "Enter the number of males in the class: 34\n",
      "Enter the number of females in the class: 21\n",
      "\n",
      "Percentage of males: 61.82%\n",
      "Percentage of females: 38.18%\n"
     ]
    }
   ],
   "source": [
    "# Get the number of males and females from the user\n",
    "num_males = int(input(\"Enter the number of males in the class: \"))\n",
    "num_females = int(input(\"Enter the number of females in the class: \"))\n",
    "\n",
    "# Calculate the total number of students in the class\n",
    "total_students = num_males + num_females\n",
    "\n",
    "# Calculate the percentage of males and females\n",
    "percentage_males = (num_males / total_students) * 100\n",
    "percentage_females = (num_females / total_students) * 100\n",
    "\n",
    "# Display the results\n",
    "print(f\"\\nPercentage of males: {percentage_males:.2f}%\")\n",
    "print(f\"Percentage of females: {percentage_females:.2f}%\")"
   ]
  },
  {
   "attachments": {},
   "cell_type": "markdown",
   "id": "e744d1a6",
   "metadata": {},
   "source": [
    "## Week 05, Lab 04\n",
    "### Coding simple algorithms with if else statements\n",
    "### CLO: This lab maps to CLO #2"
   ]
  },
  {
   "cell_type": "markdown",
   "id": "ed66eb0d",
   "metadata": {},
   "source": [
    "### 1.\tWrite an if statement that assigns 20 to the variable y and assigns 40 to the variable z if the variable x is greater than 100. complete code"
   ]
  },
  {
   "cell_type": "code",
   "execution_count": 21,
   "id": "c9df8fd0",
   "metadata": {},
   "outputs": [
    {
     "name": "stdout",
     "output_type": "stream",
     "text": [
      "Value of y: 20\n",
      "Value of z: 40\n"
     ]
    }
   ],
   "source": [
    "# Initialize or provide a value for x\n",
    "x = 105  # You can change this value to test\n",
    "\n",
    "# Check if x is greater than 100\n",
    "if x > 100:\n",
    "    y = 20\n",
    "    z = 40\n",
    "\n",
    "# To see the result\n",
    "print(\"Value of y:\", y)\n",
    "print(\"Value of z:\", z)"
   ]
  },
  {
   "cell_type": "markdown",
   "id": "e7355229",
   "metadata": {},
   "source": [
    "### 2.\tWrite an if statement that assigns 10 to the variable b, and 50 to the variable c if the variable a is equal to 100."
   ]
  },
  {
   "cell_type": "code",
   "execution_count": 22,
   "id": "926a1283",
   "metadata": {},
   "outputs": [
    {
     "name": "stdout",
     "output_type": "stream",
     "text": [
      "Value of b: 10\n",
      "Value of c: 50\n"
     ]
    }
   ],
   "source": [
    "# Initialize or provide a value for a\n",
    "a = 100  # You can change this value to test\n",
    "\n",
    "# Check if a is equal to 100\n",
    "if a == 100:\n",
    "    b = 10\n",
    "    c = 50\n",
    "\n",
    "# To see the result\n",
    "print(\"Value of b:\", b)\n",
    "print(\"Value of c:\", c)"
   ]
  },
  {
   "cell_type": "markdown",
   "id": "d0fa4524",
   "metadata": {},
   "source": [
    "### 3.\tWrite an if-else statement that assigns 0 to the variable b if the variable a is less than 10. Otherwise, it should assign 99 to the variable b."
   ]
  },
  {
   "cell_type": "code",
   "execution_count": 23,
   "id": "28105066",
   "metadata": {},
   "outputs": [
    {
     "name": "stdout",
     "output_type": "stream",
     "text": [
      "Value of b: 0\n"
     ]
    }
   ],
   "source": [
    "# Initialize or provide a value for a\n",
    "a = 5  # You can change this value to test\n",
    "\n",
    "# Check if a is less than 10\n",
    "if a < 10:\n",
    "    b = 0\n",
    "else:\n",
    "    b = 99\n",
    "\n",
    "# To see the result\n",
    "print(\"Value of b:\", b)"
   ]
  },
  {
   "cell_type": "markdown",
   "id": "65033007",
   "metadata": {},
   "source": [
    "### 4. The following code contains several nested if-else statements. Unfortunately, it was written without proper alignment and indentation. Rewrite the code and use the proper conventions of alignment and indentation.\n",
    "### if score >= A_score:\n",
    "### print('Your grade is A.')\n",
    "### else:\n",
    "### if score >= B_score:\n",
    "### print('Your grade is B.')\n",
    "### else:\n",
    "### if score >= C_score:\n",
    "### print('Your grade is C.')\n",
    "### else:\n",
    "### if score >= D_score:\n",
    "### print('Your grade is D.')\n",
    "### else:\n",
    "### print('Your grade is F.')"
   ]
  },
  {
   "cell_type": "code",
   "execution_count": 28,
   "id": "521347ed",
   "metadata": {},
   "outputs": [
    {
     "name": "stdout",
     "output_type": "stream",
     "text": [
      "Enter the score34\n",
      "Your grade is F.\n"
     ]
    }
   ],
   "source": [
    "score = int(input(\"Enter the score\"))\n",
    "A_score = 90\n",
    "B_score = 80\n",
    "C_score = 70\n",
    "D_score = 60\n",
    "if score >= A_score:\n",
    "    print('Your grade is A.')\n",
    "else:\n",
    "    if score >= B_score:\n",
    "        print('Your grade is B.')\n",
    "    else:\n",
    "        if score >= C_score:\n",
    "            print('Your grade is C.')\n",
    "        else:\n",
    "            if score >= D_score:\n",
    "                print('Your grade is D.')\n",
    "            else:\n",
    "                print('Your grade is F.')"
   ]
  },
  {
   "cell_type": "markdown",
   "id": "1030440d",
   "metadata": {},
   "source": [
    "### 5.\tWrite nested decision structures that perform the following: If amount1 is greater than 10 and amount2 is less than 100, display the greater of amount1 and amount2. \n"
   ]
  },
  {
   "cell_type": "code",
   "execution_count": 29,
   "id": "951a6301",
   "metadata": {},
   "outputs": [
    {
     "name": "stdout",
     "output_type": "stream",
     "text": [
      "50\n"
     ]
    }
   ],
   "source": [
    "# Sample values for demonstration\n",
    "amount1 = 15\n",
    "amount2 = 50\n",
    "\n",
    "if amount1 > 10 and amount2 < 100:\n",
    "    if amount1 > amount2:\n",
    "        print(amount1)\n",
    "    else:\n",
    "        print(amount2)"
   ]
  },
  {
   "cell_type": "markdown",
   "id": "a8ba8ffd",
   "metadata": {},
   "source": [
    "### 1.\tNumber Analyzer\n",
    "\n",
    "### Write a program that asks the user to enter an integer. The program should display “Positive” if the number is greater than 0, “Negative” if the number is less than 0, and “Zero” if the number is equal to 0. The program should then display “Even” if the number is even, and “Odd” if the number is odd."
   ]
  },
  {
   "cell_type": "code",
   "execution_count": 30,
   "id": "4ac3d363",
   "metadata": {},
   "outputs": [
    {
     "name": "stdout",
     "output_type": "stream",
     "text": [
      "Please enter an integer: 23\n",
      "Positive\n",
      "Odd\n"
     ]
    }
   ],
   "source": [
    "# Ask the user for an integer input\n",
    "number = int(input(\"Please enter an integer: \"))\n",
    "\n",
    "# Determine and display if the number is Positive, Negative, or Zero\n",
    "if number > 0:\n",
    "    print(\"Positive\")\n",
    "elif number < 0:\n",
    "    print(\"Negative\")\n",
    "else:\n",
    "    print(\"Zero\")\n",
    "\n",
    "# Determine and display if the number is Even or Odd\n",
    "if number % 2 == 0:\n",
    "    print(\"Even\")\n",
    "else:\n",
    "    print(\"Odd\")"
   ]
  },
  {
   "cell_type": "markdown",
   "id": "8dfec33d",
   "metadata": {},
   "source": [
    "### 2.\tAreas of Rectangles\n",
    "\n",
    "### The area of a rectangle is the rectangle’s length times its width. Write a program that asks for the length and width of two rectangles. The program should tell the user which rectangle has the greater area, or if the areas are the same."
   ]
  },
  {
   "cell_type": "code",
   "execution_count": 31,
   "id": "5012f2c2",
   "metadata": {},
   "outputs": [
    {
     "name": "stdout",
     "output_type": "stream",
     "text": [
      "Enter the length of the first rectangle: 34\n",
      "Enter the width of the first rectangle: 43\n",
      "Enter the length of the second rectangle: 34\n",
      "Enter the width of the second rectangle: 4\n",
      "The first rectangle has the greater area.\n"
     ]
    }
   ],
   "source": [
    "# Get dimensions for the first rectangle\n",
    "length1 = float(input(\"Enter the length of the first rectangle: \"))\n",
    "width1 = float(input(\"Enter the width of the first rectangle: \"))\n",
    "\n",
    "# Get dimensions for the second rectangle\n",
    "length2 = float(input(\"Enter the length of the second rectangle: \"))\n",
    "width2 = float(input(\"Enter the width of the second rectangle: \"))\n",
    "\n",
    "# Calculate the areas\n",
    "area1 = length1 * width1\n",
    "area2 = length2 * width2\n",
    "\n",
    "# Compare the areas and display the result\n",
    "if area1 > area2:\n",
    "    print(\"The first rectangle has the greater area.\")\n",
    "elif area1 < area2:\n",
    "    print(\"The second rectangle has the greater area.\")\n",
    "else:\n",
    "    print(\"Both rectangles have the same area.\")"
   ]
  },
  {
   "cell_type": "markdown",
   "id": "36e86da5",
   "metadata": {},
   "source": [
    "### 3.\tQuarter of the Year\n",
    "\n",
    "### Write a program that asks the user for a month as a number between 1 and 12. The program should display a message indicating whether the month is in the first quarter, the second quarter, the third quarter, or the fourth quarter of the year.\n",
    "### Following are the guidelines:\n",
    "### • If the user enters either 1, 2, or 3, the month is in the first quarter.\n",
    "### • If the user enters a number between 4 and 6, the month is in the second quarter.\n",
    "### • If the number is either 7, 8, or 9, the month is in the third quarter.\n",
    "### • If the month is between 10 and 12, the month is in the fourth quarter.\n",
    "### • If the number is not between 1 and 12, the program should display an error."
   ]
  },
  {
   "cell_type": "code",
   "execution_count": 32,
   "id": "16ffa389",
   "metadata": {},
   "outputs": [
    {
     "name": "stdout",
     "output_type": "stream",
     "text": [
      "Enter a month as a number between 1 and 12: 2\n",
      "The month is in the first quarter.\n"
     ]
    }
   ],
   "source": [
    "# Get the month from the user\n",
    "month = int(input(\"Enter a month as a number between 1 and 12: \"))\n",
    "\n",
    "# Determine the quarter and display the result\n",
    "if 1 <= month <= 3:\n",
    "    print(\"The month is in the first quarter.\")\n",
    "elif 4 <= month <= 6:\n",
    "    print(\"The month is in the second quarter.\")\n",
    "elif 7 <= month <= 9:\n",
    "    print(\"The month is in the third quarter.\")\n",
    "elif 10 <= month <= 12:\n",
    "    print(\"The month is in the fourth quarter.\")\n",
    "else:\n",
    "    print(\"Error: Please enter a number between 1 and 12.\")\n"
   ]
  },
  {
   "cell_type": "markdown",
   "id": "8b60f69d",
   "metadata": {},
   "source": [
    "### Write a program that prompts the user to enter a number within the range of 1 through 10. The program should display the Roman numeral version of that number. If the number is outside the range of 1 through 10, the program should display an error message. The following table shows the Roman numerals for the numbers 1 through 10:"
   ]
  },
  {
   "cell_type": "code",
   "execution_count": 33,
   "id": "bd040cc3",
   "metadata": {},
   "outputs": [
    {
     "name": "stdout",
     "output_type": "stream",
     "text": [
      "Enter a number between 1 and 10: 1\n",
      "The Roman numeral is: I\n"
     ]
    }
   ],
   "source": [
    "# Get the number from the user\n",
    "number = int(input(\"Enter a number between 1 and 10: \"))\n",
    "\n",
    "# Determine the Roman numeral representation\n",
    "if number == 1:\n",
    "    print(\"The Roman numeral is: I\")\n",
    "elif number == 2:\n",
    "    print(\"The Roman numeral is: II\")\n",
    "elif number == 3:\n",
    "    print(\"The Roman numeral is: III\")\n",
    "elif number == 4:\n",
    "    print(\"The Roman numeral is: IV\")\n",
    "elif number == 5:\n",
    "    print(\"The Roman numeral is: V\")\n",
    "elif number == 6:\n",
    "    print(\"The Roman numeral is: VI\")\n",
    "elif number == 7:\n",
    "    print(\"The Roman numeral is: VII\")\n",
    "elif number == 8:\n",
    "    print(\"The Roman numeral is: VIII\")\n",
    "elif number == 9:\n",
    "    print(\"The Roman numeral is: IX\")\n",
    "elif number == 10:\n",
    "    print(\"The Roman numeral is: X\")\n",
    "else:\n",
    "    print(\"Error: Please enter a number between 1 and 10.\")"
   ]
  },
  {
   "cell_type": "markdown",
   "id": "b6811985",
   "metadata": {},
   "source": [
    "## Week 06, Lab 05\n",
    "### Exercises on repetition structures\n",
    "### CLO: This lab maps to CLO #2"
   ]
  },
  {
   "cell_type": "markdown",
   "id": "bd6fe323",
   "metadata": {},
   "source": [
    "### 1.\tWrite a while loop that lets the user enter a number. The number should be multiplied by 10, and the result assigned to a variable named product. The loop should iterate as long as product is less than 100. \n"
   ]
  },
  {
   "cell_type": "code",
   "execution_count": 34,
   "id": "30da41ca",
   "metadata": {},
   "outputs": [
    {
     "name": "stdout",
     "output_type": "stream",
     "text": [
      "Enter a number: 12\n",
      "Product after multiplying by 10: 120.0\n",
      "The product is now 100 or greater.\n"
     ]
    }
   ],
   "source": [
    "# Initialize the product variable\n",
    "product = 0\n",
    "\n",
    "# Loop as long as product is less than 100\n",
    "while product < 100:\n",
    "    # Get a number from the user\n",
    "    number = float(input(\"Enter a number: \"))\n",
    "    \n",
    "    # Multiply the number by 10 and assign to product\n",
    "    product = number * 10\n",
    "    \n",
    "    # Display the product\n",
    "    print(f\"Product after multiplying by 10: {product}\")\n",
    "\n",
    "print(\"The product is now 100 or greater.\")"
   ]
  },
  {
   "cell_type": "markdown",
   "id": "28737a2f",
   "metadata": {},
   "source": [
    "### 2.\tWrite a while loop that asks the user to enter two numbers. The numbers should be added, and the sum displayed. The loop should ask the user if he or she wishes to perform the operation again. If so, the loop should repeat, otherwise it should terminate. \n"
   ]
  },
  {
   "cell_type": "code",
   "execution_count": 35,
   "id": "2494269e",
   "metadata": {},
   "outputs": [
    {
     "name": "stdout",
     "output_type": "stream",
     "text": [
      "Enter the first number: 2\n",
      "Enter the second number: 2\n",
      "The sum of 2.0 and 2.0 is: 4.0\n",
      "Do you wish to perform the operation again? (yes/no) yes\n",
      "Enter the first number: 23\n",
      "Enter the second number: 32\n",
      "The sum of 23.0 and 32.0 is: 55.0\n",
      "Do you wish to perform the operation again? (yes/no) no\n",
      "Operation terminated.\n"
     ]
    }
   ],
   "source": [
    "# Start with an initial condition to enter the loop\n",
    "continue_operation = \"yes\"\n",
    "\n",
    "while continue_operation.lower() == \"yes\":\n",
    "    # Get two numbers from the user\n",
    "    num1 = float(input(\"Enter the first number: \"))\n",
    "    num2 = float(input(\"Enter the second number: \"))\n",
    "    \n",
    "    # Calculate and display the sum\n",
    "    sum_result = num1 + num2\n",
    "    print(f\"The sum of {num1} and {num2} is: {sum_result}\")\n",
    "    \n",
    "    # Ask the user if they wish to continue\n",
    "    continue_operation = input(\"Do you wish to perform the operation again? (yes/no) \")\n",
    "\n",
    "print(\"Operation terminated.\")"
   ]
  },
  {
   "cell_type": "markdown",
   "id": "55f82384",
   "metadata": {},
   "source": [
    "### 2.\tWrite a for loop that uses the range function to display all odd numbers between 1 and 100. "
   ]
  },
  {
   "cell_type": "code",
   "execution_count": 37,
   "id": "4c15b8ab",
   "metadata": {},
   "outputs": [
    {
     "name": "stdout",
     "output_type": "stream",
     "text": [
      "1\n",
      "3\n",
      "5\n",
      "7\n",
      "9\n",
      "11\n",
      "13\n",
      "15\n",
      "17\n",
      "19\n",
      "21\n",
      "23\n",
      "25\n",
      "27\n",
      "29\n",
      "31\n",
      "33\n",
      "35\n",
      "37\n",
      "39\n",
      "41\n",
      "43\n",
      "45\n",
      "47\n",
      "49\n",
      "51\n",
      "53\n",
      "55\n",
      "57\n",
      "59\n",
      "61\n",
      "63\n",
      "65\n",
      "67\n",
      "69\n",
      "71\n",
      "73\n",
      "75\n",
      "77\n",
      "79\n",
      "81\n",
      "83\n",
      "85\n",
      "87\n",
      "89\n",
      "91\n",
      "93\n",
      "95\n",
      "97\n",
      "99\n"
     ]
    }
   ],
   "source": [
    "for number in range(1, 101, 2):  # Starting from 1, ending at 101 (exclusive), and stepping by 2\n",
    "    print(number)"
   ]
  },
  {
   "cell_type": "markdown",
   "id": "1a78e04e",
   "metadata": {},
   "source": [
    "### 4.\tStarting with a variable text containing an empty string, write a loop that prompts the user to type a word. Add the user’s input to the end of text and then print the variable. The loop should repeat while the length of text is less than 10 characters\n"
   ]
  },
  {
   "cell_type": "code",
   "execution_count": 38,
   "id": "3f0d1305",
   "metadata": {},
   "outputs": [
    {
     "name": "stdout",
     "output_type": "stream",
     "text": [
      "Please type a word: word\n",
      "word\n",
      "Please type a word: is \n",
      "wordis \n",
      "Please type a word: word\n",
      "wordis word\n",
      "Finished!\n"
     ]
    }
   ],
   "source": [
    "text = \"\"\n",
    "\n",
    "while len(text) < 10:\n",
    "    word = input(\"Please type a word: \")\n",
    "    text += word\n",
    "    print(text)\n",
    "\n",
    "print(\"Finished!\")"
   ]
  },
  {
   "cell_type": "markdown",
   "id": "ad3ebe3c",
   "metadata": {},
   "source": [
    "### 1.\tWrite a program that uses nested loops to draw this pattern: \n",
    "### ******* \n",
    "### ****** \n",
    "### ***** \n",
    "### **** \n",
    "### *** \n",
    "### ** \n",
    "### *"
   ]
  },
  {
   "cell_type": "code",
   "execution_count": 39,
   "id": "1aa21fd5",
   "metadata": {},
   "outputs": [
    {
     "name": "stdout",
     "output_type": "stream",
     "text": [
      "*******\n",
      "******\n",
      "*****\n",
      "****\n",
      "***\n",
      "**\n",
      "*\n"
     ]
    }
   ],
   "source": [
    "# Start with 7 asterisks and decrement by 1 in each iteration\n",
    "for i in range(7, 0, -1):\n",
    "    for j in range(i):\n",
    "        print('*', end='')  # Print asterisk and stay on the same line\n",
    "    print()  # Move to the next line after finishing the inner loop\n"
   ]
  },
  {
   "cell_type": "markdown",
   "id": "90c8e128",
   "metadata": {},
   "source": [
    "### 2.\tBug Collector \n",
    "\n",
    "### A bug collector collects bugs every day for five days. Write a program that keeps a running total of the number of bugs collected during the five days. The loop should ask for the number of bugs collected for each day, and when the loop is finished, the program should display the total number of bugs collected. "
   ]
  },
  {
   "cell_type": "code",
   "execution_count": 40,
   "id": "ac1f43e3",
   "metadata": {},
   "outputs": [
    {
     "name": "stdout",
     "output_type": "stream",
     "text": [
      "How many bugs were collected on day 1? 3\n",
      "How many bugs were collected on day 2? 2\n",
      "How many bugs were collected on day 3? 2\n",
      "How many bugs were collected on day 4? 4\n",
      "How many bugs were collected on day 5? 2\n",
      "\n",
      "The total number of bugs collected over 5 days is: 13\n"
     ]
    }
   ],
   "source": [
    "# Initialize a variable to keep track of the total number of bugs collected\n",
    "total_bugs = 0\n",
    "\n",
    "# Loop for 5 days\n",
    "for day in range(1, 6):\n",
    "    # Ask the user for the number of bugs collected on that day\n",
    "    bugs_collected_today = int(input(f\"How many bugs were collected on day {day}? \"))\n",
    "    \n",
    "    # Add the number of bugs collected on that day to the total\n",
    "    total_bugs += bugs_collected_today\n",
    "\n",
    "# Display the total number of bugs collected over the 5 days\n",
    "print(f\"\\nThe total number of bugs collected over 5 days is: {total_bugs}\")"
   ]
  },
  {
   "cell_type": "markdown",
   "id": "2207042a",
   "metadata": {},
   "source": [
    "### 3.\tCalories Burned \n",
    "### Running on a particular treadmill you burn 4.2 calories per minute. Write a program that uses a loop to display the number of calories burned after 10, 15, 20, 25, and 30 minutes."
   ]
  },
  {
   "cell_type": "code",
   "execution_count": 41,
   "id": "2d91b6aa",
   "metadata": {},
   "outputs": [
    {
     "name": "stdout",
     "output_type": "stream",
     "text": [
      "Minutes\tCalories Burned\n",
      "-----------------------\n",
      "10\t42.00\n",
      "15\t63.00\n",
      "20\t84.00\n",
      "25\t105.00\n",
      "30\t126.00\n"
     ]
    }
   ],
   "source": [
    "# Define the calories burned per minute\n",
    "calories_per_minute = 4.2\n",
    "\n",
    "# Display header\n",
    "print(\"Minutes\\tCalories Burned\")\n",
    "print(\"-----------------------\")\n",
    "\n",
    "# Loop over the list of minutes\n",
    "for minutes in [10, 15, 20, 25, 30]:\n",
    "    # Calculate calories burned for the given minutes\n",
    "    calories_burned = calories_per_minute * minutes\n",
    "    \n",
    "    # Display the result\n",
    "    print(f\"{minutes}\\t{calories_burned:.2f}\")"
   ]
  },
  {
   "cell_type": "markdown",
   "id": "7925363a",
   "metadata": {},
   "source": [
    "### 4.\tDistance Traveled \n",
    "### The distance a vehicle travels can be calculated as follows: distance 5 speed 3 time For example, if a train travels 40 miles per hour for three hours, the distance traveled is 120 miles. Write a program that asks the user for the speed of a vehicle (in miles per hour) and the number of hours it has traveled. It should then use a loop to display the distance the vehicle has traveled for each hour of that time period. \n",
    "### Here is an example of the desired output: \n",
    "### What is the speed of the vehicle in mph? 40 Enter \n",
    "### How many hours has it traveled? 3 Enter \n",
    "### Hour              Distance Traveled \n",
    "### __________________________\n",
    "### 1\t               40 \n",
    "### 2\t               80 \n",
    "### 3\t               120"
   ]
  },
  {
   "cell_type": "code",
   "execution_count": 42,
   "id": "3026b243",
   "metadata": {},
   "outputs": [
    {
     "name": "stdout",
     "output_type": "stream",
     "text": [
      "What is the speed of the vehicle in mph? 40\n",
      "How many hours has it traveled? 3\n",
      "\n",
      "Hour\tDistance Traveled\n",
      "-------------------------\n",
      "1\t40.0\n",
      "2\t80.0\n",
      "3\t120.0\n"
     ]
    }
   ],
   "source": [
    "# Get user input for speed and hours\n",
    "speed = float(input(\"What is the speed of the vehicle in mph? \"))\n",
    "hours = int(input(\"How many hours has it traveled? \"))\n",
    "\n",
    "# Display headers\n",
    "print(\"\\nHour\\tDistance Traveled\")\n",
    "print(\"-------------------------\")\n",
    "\n",
    "# Loop over each hour\n",
    "for hour in range(1, hours + 1):\n",
    "    # Calculate distance for the current hour\n",
    "    distance = speed * hour\n",
    "    \n",
    "    # Display the result\n",
    "    print(f\"{hour}\\t{distance}\")"
   ]
  },
  {
   "cell_type": "markdown",
   "id": "69adb3a8",
   "metadata": {},
   "source": [
    "### 5.\tWrite code that prompts the user to enter a positive nonzero number and validates the input.  very simple code"
   ]
  },
  {
   "cell_type": "code",
   "execution_count": 43,
   "id": "785164e7",
   "metadata": {},
   "outputs": [
    {
     "name": "stdout",
     "output_type": "stream",
     "text": [
      "Enter a positive nonzero number: 34\n",
      "You entered: 34.0\n"
     ]
    }
   ],
   "source": [
    "number = 0\n",
    "\n",
    "while number <= 0:\n",
    "    number = float(input(\"Enter a positive nonzero number: \"))\n",
    "    if number <= 0:\n",
    "        print(\"Invalid input. Try again.\")\n",
    "\n",
    "print(f\"You entered: {number}\")"
   ]
  },
  {
   "cell_type": "markdown",
   "id": "1de45588",
   "metadata": {},
   "source": [
    "### 6. Write a program that calculates the amount of money a person would earn over a period of time if his or her salary is one penny the first day, two pennies the second day, and continues to double each day. The program should ask the user for the number of days. Display a table showing what the salary was for each day, then show the total pay at the end of the period. The output should be displayed in a dollar amount, not the number of pennies."
   ]
  },
  {
   "cell_type": "code",
   "execution_count": 44,
   "id": "a595987e",
   "metadata": {},
   "outputs": [
    {
     "name": "stdout",
     "output_type": "stream",
     "text": [
      "Enter the number of days: 23\n",
      "\n",
      "Day\tSalary($)\n",
      "-----------------\n",
      "1\t0.01\n",
      "2\t0.02\n",
      "3\t0.04\n",
      "4\t0.08\n",
      "5\t0.16\n",
      "6\t0.32\n",
      "7\t0.64\n",
      "8\t1.28\n",
      "9\t2.56\n",
      "10\t5.12\n",
      "11\t10.24\n",
      "12\t20.48\n",
      "13\t40.96\n",
      "14\t81.92\n",
      "15\t163.84\n",
      "16\t327.68\n",
      "17\t655.36\n",
      "18\t1310.72\n",
      "19\t2621.44\n",
      "20\t5242.88\n",
      "21\t10485.76\n",
      "22\t20971.52\n",
      "23\t41943.04\n",
      "\n",
      "Total Pay: $ 83,886.07\n"
     ]
    }
   ],
   "source": [
    "# Initialize starting salary\n",
    "salary = 0.01  # Starting with one penny\n",
    "total_salary = 0  # Total accumulated salary\n",
    "\n",
    "# Ask the user for the number of days\n",
    "days = int(input(\"Enter the number of days: \"))\n",
    "\n",
    "# Print table header\n",
    "print(\"\\nDay\\tSalary($)\")\n",
    "print(\"-----------------\")\n",
    "\n",
    "# Calculate and display the salary for each day\n",
    "for day in range(1, days + 1):\n",
    "    print(f\"{day}\\t{salary:.2f}\")\n",
    "    total_salary += salary\n",
    "    salary *= 2  # Double the salary for the next day\n",
    "\n",
    "# Display the total pay at the end of the period\n",
    "print(\"\\nTotal Pay: $\", format(total_salary, \",.2f\"))"
   ]
  },
  {
   "cell_type": "markdown",
   "id": "bd512585",
   "metadata": {},
   "source": [
    "## Week 07, Lab 06\n",
    "### Math Module\n",
    "### CLO: This lab maps to CLO # 01 & CLO # 03"
   ]
  },
  {
   "cell_type": "markdown",
   "id": "a6f35b7b",
   "metadata": {},
   "source": [
    "### 1.Complete the following program to find and print (use Math module): \n",
    "\n",
    "\t| i |, | j |.\n",
    "\tRounding ( x ) and ( y ) to the nearest integer.\n",
    "\tCeiling of ( x ) and ( y ).\n",
    "\tFlooring of ( x ) and ( y ).\n",
    "\tCosine  and Sine of (angle)\n",
    "\tea and Log(a)\n",
    "\ti5 and j4\n",
    "\t√i and √x"
   ]
  },
  {
   "cell_type": "code",
   "execution_count": 45,
   "id": "cf6a17d0",
   "metadata": {},
   "outputs": [
    {
     "name": "stdout",
     "output_type": "stream",
     "text": [
      "Absolute values:  7 9\n",
      "Rounded values:  72 0\n",
      "Ceiling values:  73 1\n",
      "Floor values:  72 0\n",
      "Cosine and Sine:  0.7071067811865476 0.7071067811865475\n",
      "Exp(a) and Log(a):  22026.465794806718 2.302585092994046\n",
      "i^5 and j^4:  16807 6561\n",
      "Square root:  2.6457513110645907 8.502940667792526\n"
     ]
    }
   ],
   "source": [
    "import math\n",
    "\n",
    "# Variable assignment\n",
    "i = 7\n",
    "j = -9\n",
    "x = 72.3\n",
    "y = 0.37\n",
    "angle = 45.0 * 2.0 * math.pi/360.0  # converted degrees to radians\n",
    "a = 10.0\n",
    "\n",
    "# Computations and print statements\n",
    "print(\"Absolute values: \", abs(i), abs(j))\n",
    "print(\"Rounded values: \", round(x), round(y))\n",
    "print(\"Ceiling values: \", math.ceil(x), math.ceil(y))\n",
    "print(\"Floor values: \", math.floor(x), math.floor(y))\n",
    "print(\"Cosine and Sine: \", math.cos(angle), math.sin(angle))\n",
    "print(\"Exp(a) and Log(a): \", math.exp(a), math.log(a))\n",
    "print(\"i^5 and j^4: \", i ** 5, j ** 4)\n",
    "print(\"Square root: \", math.sqrt(i), math.sqrt(x))"
   ]
  },
  {
   "cell_type": "markdown",
   "id": "7d199e87",
   "metadata": {},
   "source": [
    "### 2. The following formula gives the distance between two points (x1, y1) and (x2, y2) in the Cartesian plane ."
   ]
  },
  {
   "cell_type": "code",
   "execution_count": 46,
   "id": "e9a374df",
   "metadata": {},
   "outputs": [
    {
     "name": "stdout",
     "output_type": "stream",
     "text": [
      "Enter x1: 2\n",
      "Enter y1: 3\n",
      "Enter x2: 4\n",
      "Enter y2: 5\n",
      "Distance between ( 2.0 , 3.0 ) and ( 4.0 , 5.0 ) is:  2.8284271247461903\n"
     ]
    }
   ],
   "source": [
    "import math\n",
    "\n",
    "# Coordinates of point 1\n",
    "x1 = float(input(\"Enter x1: \"))\n",
    "y1 = float(input(\"Enter y1: \"))\n",
    "\n",
    "# Coordinates of point 2\n",
    "x2 = float(input(\"Enter x2: \"))\n",
    "y2 = float(input(\"Enter y2: \"))\n",
    "\n",
    "# Calculating the distance\n",
    "distance = math.sqrt((x2 - x1)**2 + (y2 - y1)**2)\n",
    "\n",
    "# Displaying the result\n",
    "print(\"Distance between (\", x1, \",\", y1, \") and (\", x2, \",\", y2, \") is: \", distance)"
   ]
  },
  {
   "cell_type": "markdown",
   "id": "493f2224",
   "metadata": {},
   "source": [
    "### 3. Write a program that asks the user to enter details of two circles. The details of each circle are the center coordinates (x and y) and the radius.\n",
    "\n",
    "### The program must find the following:\n",
    "### •\tThe area of each circle. Area = PI * radius2\n",
    "### •\tThe circumference of each circle. Circumference = 2 * PI  * radius\n",
    "### •\tThe change of overlapping between the two circles. \n",
    "### Overlap: Radius1 + Radius2 >= Distance between centers"
   ]
  },
  {
   "cell_type": "code",
   "execution_count": 47,
   "id": "0dfb2291",
   "metadata": {},
   "outputs": [
    {
     "name": "stdout",
     "output_type": "stream",
     "text": [
      "Enter x coordinate of circle 1: 2\n",
      "Enter y coordinate of circle 1: 3\n",
      "Enter radius of circle 1: 4\n",
      "Enter x coordinate of circle 2: 5\n",
      "Enter y coordinate of circle 2: 6\n",
      "Enter radius of circle 2: 7\n",
      "Circle 1: Area = 50.26548245743669 , Circumference = 25.132741228718345\n",
      "Circle 2: Area = 153.93804002589985 , Circumference = 43.982297150257104\n",
      "Do the circles overlap? Yes\n"
     ]
    }
   ],
   "source": [
    "import math\n",
    "\n",
    "# Input for Circle 1\n",
    "x1 = float(input(\"Enter x coordinate of circle 1: \"))\n",
    "y1 = float(input(\"Enter y coordinate of circle 1: \"))\n",
    "r1 = float(input(\"Enter radius of circle 1: \"))\n",
    "\n",
    "# Input for Circle 2\n",
    "x2 = float(input(\"Enter x coordinate of circle 2: \"))\n",
    "y2 = float(input(\"Enter y coordinate of circle 2: \"))\n",
    "r2 = float(input(\"Enter radius of circle 2: \"))\n",
    "\n",
    "# Calculations for Circle 1\n",
    "area1 = math.pi * r1 ** 2\n",
    "circumference1 = 2 * math.pi * r1\n",
    "\n",
    "# Calculations for Circle 2\n",
    "area2 = math.pi * r2 ** 2\n",
    "circumference2 = 2 * math.pi * r2\n",
    "\n",
    "# Check for overlap\n",
    "distance_centers = math.sqrt((x2 - x1) ** 2 + (y2 - y1) ** 2)\n",
    "if r1 + r2 >= distance_centers:\n",
    "    overlap = \"Yes\"\n",
    "else:\n",
    "    overlap = \"No\"\n",
    "\n",
    "# Display Results\n",
    "print(\"Circle 1: Area =\", area1, \", Circumference =\", circumference1)\n",
    "print(\"Circle 2: Area =\", area2, \", Circumference =\", circumference2)\n",
    "print(\"Do the circles overlap?\", overlap)"
   ]
  },
  {
   "attachments": {},
   "cell_type": "markdown",
   "id": "7307aafc",
   "metadata": {},
   "source": [
    "### 1. Write a program that calculates the following:\n",
    "### • The area of a circle\n",
    "### • The circumference of a circle\n",
    "### • The area of a rectangle\n",
    "### • The perimeter of a rectangle"
   ]
  },
  {
   "cell_type": "code",
   "execution_count": 48,
   "id": "9d43f2b9",
   "metadata": {},
   "outputs": [
    {
     "name": "stdout",
     "output_type": "stream",
     "text": [
      "Enter the radius of the circle: 2\n",
      "Enter the length of the rectangle: 3\n",
      "Enter the width of the rectangle: 4\n",
      "Circle: Area = 12.566370614359172 , Circumference = 12.566370614359172\n",
      "Rectangle: Area = 12.0 , Perimeter = 14.0\n"
     ]
    }
   ],
   "source": [
    "# Importing math module to use PI\n",
    "import math\n",
    "\n",
    "# Input for Circle\n",
    "radius = float(input(\"Enter the radius of the circle: \"))\n",
    "\n",
    "# Calculations for Circle\n",
    "area_circle = math.pi * radius ** 2\n",
    "circumference = 2 * math.pi * radius\n",
    "\n",
    "# Input for Rectangle\n",
    "length = float(input(\"Enter the length of the rectangle: \"))\n",
    "width = float(input(\"Enter the width of the rectangle: \"))\n",
    "\n",
    "# Calculations for Rectangle\n",
    "area_rectangle = length * width\n",
    "perimeter_rectangle = 2 * (length + width)\n",
    "\n",
    "# Display Results\n",
    "print(\"Circle: Area =\", area_circle, \", Circumference =\", circumference)\n",
    "print(\"Rectangle: Area =\", area_rectangle, \", Perimeter =\", perimeter_rectangle)"
   ]
  },
  {
   "cell_type": "markdown",
   "id": "84569f88",
   "metadata": {},
   "source": [
    "### 2. Suppose you have taken out a loan for a certain amount of money with a fixed monthly interest  rate and monthly payments, and you want to determine the monthly payment amount necessary to pay off the loan within a specific number of months. The formula is as follows:\n"
   ]
  },
  {
   "cell_type": "code",
   "execution_count": 49,
   "id": "5b5757a7",
   "metadata": {},
   "outputs": [
    {
     "name": "stdout",
     "output_type": "stream",
     "text": [
      "Enter the loan amount: 34\n",
      "Enter the annual interest rate (in %): 2\n",
      "Enter the number of months to repay the loan: 34\n",
      "Monthly payment to pay off the loan: $ 1.03\n"
     ]
    }
   ],
   "source": [
    "# Input: Loan amount, Annual Interest Rate, and Number of Months\n",
    "loan_amount = float(input(\"Enter the loan amount: \"))\n",
    "annual_interest_rate = float(input(\"Enter the annual interest rate (in %): \"))\n",
    "num_of_months = int(input(\"Enter the number of months to repay the loan: \"))\n",
    "\n",
    "# Convert annual interest rate to monthly and in decimal form\n",
    "monthly_rate = (annual_interest_rate / 100) / 12\n",
    "\n",
    "# Calculate monthly payment using the formula\n",
    "monthly_payment = (monthly_rate * loan_amount * (1 + monthly_rate)**num_of_months) / ((1 + monthly_rate)**num_of_months - 1)\n",
    "\n",
    "# Display the result\n",
    "print(\"Monthly payment to pay off the loan: $\", round(monthly_payment, 2))"
   ]
  },
  {
   "attachments": {
    "image.png": {
     "image/png": "[encoded data removed]"
    }
   },
   "cell_type": "markdown",
   "id": "f1107902",
   "metadata": {},
   "source": [
    "### 2. Suppose you have taken out a loan for a certain amount of money with a fixed monthly interest  rate and monthly payments, and you want to determine the monthly payment amount necessary to pay off the loan within a specific number of months. The formula is as follows: \n",
    "![image.png](attachment:image.png)\n",
    "\n",
    "The terms in the formula are: \n",
    "• P is the payment amount per month. \n",
    "• R is the monthly interest rate, as a decimal (e.g. 2.5% 5 0.025).\n",
    "• A is the amount of the loan. \n",
    "• M is the number of months. \n",
    "\n",
    "Write a program that prompts the user to enter the loan amount, monthly interest rate as a \n",
    "percentage and desired number of months, then  it should calculate and display the monthly \n",
    "payment amount necessary."
   ]
  },
  {
   "cell_type": "code",
   "execution_count": 50,
   "id": "ae8a1539",
   "metadata": {},
   "outputs": [
    {
     "name": "stdout",
     "output_type": "stream",
     "text": [
      "Enter the loan amount (A): 23\n",
      "Enter the monthly interest rate (R) in percentage: 455\n",
      "Enter the desired number of months (M) to repay the loan: 223\n",
      "Monthly payment to pay off the loan: $ 104.65\n"
     ]
    }
   ],
   "source": [
    "# Get user input for the loan details\n",
    "loan_amount = float(input(\"Enter the loan amount (A): \"))\n",
    "monthly_interest_rate = float(input(\"Enter the monthly interest rate (R) in percentage: \"))\n",
    "num_of_months = int(input(\"Enter the desired number of months (M) to repay the loan: \"))\n",
    "\n",
    "# Convert monthly interest rate to decimal\n",
    "monthly_rate_decimal = monthly_interest_rate / 100\n",
    "\n",
    "# Calculate monthly payment using the formula\n",
    "# P = (R * A * (1 + R)^M) / ((1 + R)^M - 1)\n",
    "monthly_payment = (monthly_rate_decimal * loan_amount * (1 + monthly_rate_decimal)**num_of_months) / ((1 + monthly_rate_decimal)**num_of_months - 1)\n",
    "\n",
    "# Display the result\n",
    "print(\"Monthly payment to pay off the loan: $\", round(monthly_payment, 2))"
   ]
  },
  {
   "cell_type": "markdown",
   "id": "1fca1179",
   "metadata": {},
   "source": [
    "## Week 09, Lab 07\n",
    "### Solve different problems/exercises using predefined and user defined functions.  \n",
    "### CLO: This lab maps to CLO # 01 & CLO # 03"
   ]
  },
  {
   "cell_type": "markdown",
   "id": "67bfb867",
   "metadata": {},
   "source": [
    "### 1.\tWrite a function isEven that takes an integer number and returns true if the number is even otherwise it returns false. Write a complete program to test your method."
   ]
  },
  {
   "cell_type": "code",
   "execution_count": 52,
   "id": "e07b0bdd",
   "metadata": {},
   "outputs": [
    {
     "name": "stdout",
     "output_type": "stream",
     "text": [
      "Enter an integer: 2\n",
      "2 is even.\n"
     ]
    }
   ],
   "source": [
    "# Function to check if a number is even\n",
    "def isEven(num):\n",
    "    if num % 2 == 0:\n",
    "        return True\n",
    "    else:\n",
    "        return False\n",
    "\n",
    "# Test the function\n",
    "num = int(input(\"Enter an integer: \"))\n",
    "\n",
    "if isEven(num):\n",
    "    print(f\"{num} is even.\")\n",
    "else:\n",
    "    print(f\"{num} is odd.\")"
   ]
  },
  {
   "cell_type": "markdown",
   "id": "359f36a7",
   "metadata": {},
   "source": [
    "### 2.\tWrite a program that prompts the user to insert five numbers then calculate and display the mean (average) and the standard deviation. \n",
    "### Your program shall include the following functions:\n",
    "### - mean(). Receives five double numbers and returns the mean.\n",
    "### - sd(). Receives five double numbers and return the SD"
   ]
  },
  {
   "cell_type": "code",
   "execution_count": 53,
   "id": "55206a9d",
   "metadata": {},
   "outputs": [
    {
     "name": "stdout",
     "output_type": "stream",
     "text": [
      "Enter the first number: 2\n",
      "Enter the second number: 3\n",
      "Enter the third number: 4\n",
      "Enter the fourth number: 5\n",
      "Enter the fifth number: 6\n",
      "The mean of the numbers is: 4.0\n",
      "The standard deviation of the numbers is: 1.5811388300841898\n"
     ]
    }
   ],
   "source": [
    "# Function to calculate mean of five numbers\n",
    "def mean(a, b, c, d, e):\n",
    "    return (a + b + c + d + e) / 5\n",
    "\n",
    "# Function to calculate standard deviation of five numbers\n",
    "def sd(a, b, c, d, e):\n",
    "    m = mean(a, b, c, d, e)\n",
    "    variance = ((a - m) ** 2 + (b - m) ** 2 + (c - m) ** 2 + (d - m) ** 2 + (e - m) ** 2) / 4\n",
    "    return variance ** 0.5\n",
    "\n",
    "# Prompt the user for five numbers\n",
    "num1 = float(input(\"Enter the first number: \"))\n",
    "num2 = float(input(\"Enter the second number: \"))\n",
    "num3 = float(input(\"Enter the third number: \"))\n",
    "num4 = float(input(\"Enter the fourth number: \"))\n",
    "num5 = float(input(\"Enter the fifth number: \"))\n",
    "\n",
    "# Calculate and display the mean and standard deviation\n",
    "print(f\"The mean of the numbers is: {mean(num1, num2, num3, num4, num5)}\")\n",
    "print(f\"The standard deviation of the numbers is: {sd(num1, num2, num3, num4, num5)}\")"
   ]
  },
  {
   "cell_type": "markdown",
   "id": "7693fb35",
   "metadata": {},
   "source": [
    "### 3.\tWrite a program that generates 100 random numbers and keeps a count of how many of those random numbers are even, and how many of them are odd.  Create a functions oddEven() that print the number of even and odd values."
   ]
  },
  {
   "cell_type": "code",
   "execution_count": 54,
   "id": "544412bf",
   "metadata": {},
   "outputs": [
    {
     "name": "stdout",
     "output_type": "stream",
     "text": [
      "Number of even values: 56\n",
      "Number of odd values: 44\n"
     ]
    }
   ],
   "source": [
    "import random\n",
    "\n",
    "# Generate 100 random numbers between 1 and 1000 (you can adjust the range if desired)\n",
    "numbers = [random.randint(1, 1000) for _ in range(100)]\n",
    "\n",
    "def oddEven(numbers):\n",
    "    even_count = sum(1 for num in numbers if num % 2 == 0)\n",
    "    odd_count = len(numbers) - even_count\n",
    "    print(f\"Number of even values: {even_count}\")\n",
    "    print(f\"Number of odd values: {odd_count}\")\n",
    "\n",
    "oddEven(numbers)"
   ]
  },
  {
   "attachments": {
    "Screenshot%202023-11-29%20at%2011.51.24.png": {
     "image/png": "[encoded data removed]"
    }
   },
   "cell_type": "markdown",
   "id": "636f0964",
   "metadata": {},
   "source": [
    "### 4. Write a function that reads a number and returns the result of the following function:\n",
    "![Screenshot%202023-11-29%20at%2011.51.24.png](attachment:Screenshot%202023-11-29%20at%2011.51.24.png)"
   ]
  },
  {
   "cell_type": "code",
   "execution_count": 55,
   "id": "ddaf6436",
   "metadata": {},
   "outputs": [
    {
     "name": "stdout",
     "output_type": "stream",
     "text": [
      "Enter a number: 3\n",
      "f(3.0) = 25.0\n"
     ]
    }
   ],
   "source": [
    "def f(x):\n",
    "    if x > 2:\n",
    "        return x**3 - 2\n",
    "    elif x == 2:\n",
    "        return -x\n",
    "    else:  # This implies x < 2\n",
    "        return x**2 - 2*x + 1\n",
    "\n",
    "# Test the function\n",
    "x_value = float(input(\"Enter a number: \"))\n",
    "print(f\"f({x_value}) =\", f(x_value))"
   ]
  },
  {
   "cell_type": "markdown",
   "id": "4f902d34",
   "metadata": {},
   "source": [
    "### 5.\tWrite a function to find and return  the sum of values greater than a number(k).\n",
    "### The method should have 2 arguments, the number(K) and the number of values (N)"
   ]
  },
  {
   "cell_type": "code",
   "execution_count": 56,
   "id": "64bd1e2d",
   "metadata": {},
   "outputs": [
    {
     "name": "stdout",
     "output_type": "stream",
     "text": [
      "Insert your number: 2\n",
      "Insert the number of values: 3\n",
      "4\n",
      "3\n",
      "4\n",
      "The sum of numbers above 2 is: 11\n"
     ]
    }
   ],
   "source": [
    "def sum_above_k(k, n):\n",
    "    values = [int(input()) for _ in range(n)]\n",
    "    total = sum(value for value in values if value > k)\n",
    "    return total\n",
    "\n",
    "# Get inputs from the user\n",
    "k = int(input(\"Insert your number: \"))\n",
    "n = int(input(\"Insert the number of values: \"))\n",
    "\n",
    "# Calculate and display the result\n",
    "result = sum_above_k(k, n)\n",
    "print(f\"The sum of numbers above {k} is:\", result)"
   ]
  },
  {
   "cell_type": "markdown",
   "id": "28de7669",
   "metadata": {},
   "source": [
    "### 1.\tWrite a program that has a method which outputs inflation rates for two successive years and whether the inflation rates are increasing or decreasing. The 3 parameters passed to the method are the current price of an item and its prices in the previous two years."
   ]
  },
  {
   "cell_type": "code",
   "execution_count": 57,
   "id": "2ee972d1",
   "metadata": {},
   "outputs": [
    {
     "name": "stdout",
     "output_type": "stream",
     "text": [
      "Enter the current price of the item: 2\n",
      "Enter the price of the item in the last year: 3\n",
      "Enter the price of the item before 2 years: 4\n",
      "Inflation rate, between the current price and last year, is decreasing by 33.33%\n",
      "Inflation rate, between the price of last year and the year before, is decreasing by 25.00%\n"
     ]
    }
   ],
   "source": [
    "def inflation_rate(current_price, last_year_price, two_years_ago_price):\n",
    "    # Calculate inflation rates\n",
    "    inflation_last_year = ((current_price - last_year_price) / last_year_price) * 100\n",
    "    inflation_two_years_ago = ((last_year_price - two_years_ago_price) / two_years_ago_price) * 100\n",
    "\n",
    "    # Determine trend for the two inflation rates\n",
    "    trend_last_year = \"increasing\" if inflation_last_year > 0 else \"decreasing\"\n",
    "    trend_two_years_ago = \"increasing\" if inflation_two_years_ago > 0 else \"decreasing\"\n",
    "\n",
    "    # Print the results\n",
    "    print(f\"Inflation rate, between the current price and last year, is {trend_last_year} by {abs(inflation_last_year):.2f}%\")\n",
    "    print(f\"Inflation rate, between the price of last year and the year before, is {trend_two_years_ago} by {abs(inflation_two_years_ago):.2f}%\")\n",
    "\n",
    "# Get inputs from the user\n",
    "current_price = float(input(\"Enter the current price of the item: \"))\n",
    "last_year_price = float(input(\"Enter the price of the item in the last year: \"))\n",
    "two_years_ago_price = float(input(\"Enter the price of the item before 2 years: \"))\n",
    "\n",
    "# Display the results\n",
    "inflation_rate(current_price, last_year_price, two_years_ago_price)"
   ]
  },
  {
   "cell_type": "markdown",
   "id": "e1f96ce4",
   "metadata": {},
   "source": [
    "### 2.\tWrite a program two players dice game. The game goes for three rounds, and in each round, two dices are rolled. For each round, the players have to guess the two dices' total. The one whose guess is closest wins the round. The total of two dices is between 2 to 12."
   ]
  },
  {
   "cell_type": "code",
   "execution_count": 58,
   "id": "d76e1ef0",
   "metadata": {},
   "outputs": [
    {
     "name": "stdout",
     "output_type": "stream",
     "text": [
      "Round 1:\n",
      "Player 1 guess (2-12): 2\n",
      "Player 2 guess (2-12): 2\n",
      "Dice1: 5\tDice2: 2\tTotal: 7\tScore: 0 X 0\n",
      "**********************************************************\n",
      "Round 2:\n",
      "Player 1 guess (2-12): 2\n",
      "Player 2 guess (2-12): 2\n",
      "Dice1: 4\tDice2: 1\tTotal: 5\tScore: 0 X 0\n",
      "**********************************************************\n",
      "Round 3:\n",
      "Player 1 guess (2-12): 2\n",
      "Player 2 guess (2-12): 2\n",
      "Dice1: 4\tDice2: 6\tTotal: 10\tScore: 0 X 0\n",
      "**********************************************************\n"
     ]
    }
   ],
   "source": [
    "# Function to roll a dice\n",
    "def roll_dice():\n",
    "    return int((12 - 2 + 1) * random.random() + 2)\n",
    "\n",
    "# Function to determine the winner of a round based on their guesses and the actual dice total\n",
    "def determine_winner(p1_guess, p2_guess, total):\n",
    "    p1_diff = abs(p1_guess - total)\n",
    "    p2_diff = abs(p2_guess - total)\n",
    "    \n",
    "    if p1_diff < p2_diff:\n",
    "        return 1\n",
    "    elif p2_diff < p1_diff:\n",
    "        return 2\n",
    "    else:\n",
    "        return 0  # It's a tie\n",
    "\n",
    "# Main game logic\n",
    "player1_score = 0\n",
    "player2_score = 0\n",
    "\n",
    "for i in range(3):\n",
    "    print(f\"Round {i + 1}:\")\n",
    "    \n",
    "    # Get guesses from players\n",
    "    p1_guess = int(input(\"Player 1 guess (2-12): \"))\n",
    "    p2_guess = int(input(\"Player 2 guess (2-12): \"))\n",
    "    \n",
    "    # Roll the two dice\n",
    "    dice1 = int((6 - 1 + 1) * random.random() + 1)\n",
    "    dice2 = int((6 - 1 + 1) * random.random() + 1)\n",
    "    total = dice1 + dice2\n",
    "    \n",
    "    # Determine the winner for this round\n",
    "    winner = determine_winner(p1_guess, p2_guess, total)\n",
    "    if winner == 1:\n",
    "        player1_score += 1\n",
    "    elif winner == 2:\n",
    "        player2_score += 1\n",
    "    \n",
    "    # Display the results for this round\n",
    "    print(f\"Dice1: {dice1}\\tDice2: {dice2}\\tTotal: {total}\\tScore: {player1_score} X {player2_score}\")\n",
    "    print(\"**********************************************************\")\n",
    "\n",
    "# At the end, you can also announce the overall winner if needed"
   ]
  },
  {
   "attachments": {},
   "cell_type": "markdown",
   "id": "b6161809",
   "metadata": {},
   "source": [
    "### 3.   Write a program that asks the user to enter five test scores. The program should display a letter grade for each score and the average test score. Write the following functions in the program: \n",
    "### • calc_average. This function should accept five test scores as arguments and return the  average of the scores. \n",
    "### • determine_grade. This function should accept a test score as an argument and return a letter grade for the score based on the following grading scale:"
   ]
  },
  {
   "cell_type": "code",
   "execution_count": 59,
   "id": "8bfba690",
   "metadata": {},
   "outputs": [
    {
     "name": "stdout",
     "output_type": "stream",
     "text": [
      "Enter score for test 1: 2\n",
      "Grade for test 1: E\n",
      "Enter score for test 2: 2\n",
      "Grade for test 2: E\n",
      "Enter score for test 3: 2\n",
      "Grade for test 3: E\n",
      "Enter score for test 4: 3\n",
      "Grade for test 4: E\n",
      "Enter score for test 5: 4\n",
      "Grade for test 5: E\n",
      "The average test score is: 2.60\n"
     ]
    }
   ],
   "source": [
    "def calc_average(score1, score2, score3, score4, score5):\n",
    "    return (score1 + score2 + score3 + score4 + score5) / 5\n",
    "\n",
    "def determine_grade(score):\n",
    "    if 90 <= score <= 100:\n",
    "        return 'A'\n",
    "    elif 80 <= score <= 89:\n",
    "        return 'B'\n",
    "    elif 70 <= score <= 79:\n",
    "        return 'C'\n",
    "    elif 60 <= score <= 69:\n",
    "        return 'D'\n",
    "    else:\n",
    "        return 'E'\n",
    "\n",
    "def main():\n",
    "    scores = []  # to store the scores\n",
    "    for i in range(1, 6):  # Loop for 5 test scores\n",
    "        score = float(input(f\"Enter score for test {i}: \"))\n",
    "        scores.append(score)\n",
    "        print(f\"Grade for test {i}: {determine_grade(score)}\")\n",
    "    \n",
    "    # Calculate and print the average\n",
    "    avg = calc_average(*scores)\n",
    "    print(f\"The average test score is: {avg:.2f}\")\n",
    "\n",
    "main()"
   ]
  },
  {
   "attachments": {},
   "cell_type": "markdown",
   "id": "a5cf336f",
   "metadata": {},
   "source": [
    "## Week 10, Lab 08\n",
    "### Exercises on String Operations.  \n",
    "### CLO: This lab maps to CLO # 01 and 04"
   ]
  },
  {
   "cell_type": "markdown",
   "id": "1d83f394",
   "metadata": {},
   "source": [
    "### 1.\tWrite a loop that counts the number of space characters that appear a string."
   ]
  },
  {
   "cell_type": "code",
   "execution_count": 60,
   "id": "279dc644",
   "metadata": {},
   "outputs": [
    {
     "name": "stdout",
     "output_type": "stream",
     "text": [
      "Enter a string: ALi Nawaz\n",
      "The number of space characters in the string is: 1\n"
     ]
    }
   ],
   "source": [
    "# Input the string from the user\n",
    "string = input(\"Enter a string: \")\n",
    "\n",
    "# Initialize a count variable\n",
    "space_count = 0\n",
    "\n",
    "# Loop through each character in the string\n",
    "for char in string:\n",
    "    if char == ' ':  # Check if the character is a space\n",
    "        space_count += 1\n",
    "\n",
    "# Print the result\n",
    "print(f\"The number of space characters in the string is: {space_count}\")"
   ]
  },
  {
   "cell_type": "markdown",
   "id": "31061d70",
   "metadata": {},
   "source": [
    "### 2.\tWrite a loop that counts the number of alphanumeric characters (letters or digits) that appear a string\n",
    "\n"
   ]
  },
  {
   "cell_type": "code",
   "execution_count": 61,
   "id": "501db4dd",
   "metadata": {},
   "outputs": [
    {
     "name": "stdout",
     "output_type": "stream",
     "text": [
      "Enter a string: The count is 6\n",
      "The number of alphanumeric characters in the string is: 11\n"
     ]
    }
   ],
   "source": [
    "# Input the string from the user\n",
    "string = input(\"Enter a string: \")\n",
    "\n",
    "# Initialize a count variable\n",
    "alphanumeric_count = 0\n",
    "\n",
    "# Loop through each character in the string\n",
    "for char in string:\n",
    "    if char.isalnum():  # Check if the character is alphanumeric (either letter or digit)\n",
    "        alphanumeric_count += 1\n",
    "\n",
    "# Print the result\n",
    "print(f\"The number of alphanumeric characters in the string is: {alphanumeric_count}\")"
   ]
  },
  {
   "cell_type": "markdown",
   "id": "44d7f426",
   "metadata": {},
   "source": [
    "### 3.\tWrite a loop that counts the number of lowercase characters that appear in a string\n",
    "\n"
   ]
  },
  {
   "cell_type": "code",
   "execution_count": 62,
   "id": "90c330a7",
   "metadata": {},
   "outputs": [
    {
     "name": "stdout",
     "output_type": "stream",
     "text": [
      "Enter a string: Ali\n",
      "The number of lowercase characters in the string is: 2\n"
     ]
    }
   ],
   "source": [
    "# Input the string from the user\n",
    "string = input(\"Enter a string: \")\n",
    "\n",
    "# Initialize a count variable\n",
    "lowercase_count = 0\n",
    "\n",
    "# Loop through each character in the string\n",
    "for char in string:\n",
    "    if char.islower():  # Check if the character is lowercase\n",
    "        lowercase_count += 1\n",
    "\n",
    "# Print the result\n",
    "print(f\"The number of lowercase characters in the string is: {lowercase_count}\")"
   ]
  },
  {
   "cell_type": "markdown",
   "id": "2086797a",
   "metadata": {},
   "source": [
    "### 4.\t Write a function that accepts a string as an argument and returns true if the argument starts with the substring 'https'. Otherwise, the function should return false."
   ]
  },
  {
   "cell_type": "code",
   "execution_count": 65,
   "id": "05c9e87e",
   "metadata": {},
   "outputs": [
    {
     "name": "stdout",
     "output_type": "stream",
     "text": [
      "Enter a string: httpsali\n",
      "The string starts with 'https'.\n"
     ]
    }
   ],
   "source": [
    "def starts_with_https(s):\n",
    "    return s.startswith('https')\n",
    "\n",
    "# Testing the function\n",
    "test_string = input(\"Enter a string: \")\n",
    "if starts_with_https(test_string):\n",
    "    print(\"The string starts with 'https'.\")\n",
    "else:\n",
    "    print(\"The string does not start with 'https'.\")"
   ]
  },
  {
   "cell_type": "markdown",
   "id": "54c5f43f",
   "metadata": {},
   "source": [
    "### 5.\tWrite a function that accepts a string as an argument and displays the string backwards."
   ]
  },
  {
   "cell_type": "code",
   "execution_count": 66,
   "id": "12edfe13",
   "metadata": {},
   "outputs": [
    {
     "name": "stdout",
     "output_type": "stream",
     "text": [
      "Enter a string: ali anwaz\n",
      "zawna ila\n"
     ]
    }
   ],
   "source": [
    "def display_backwards(s):\n",
    "    print(s[::-1])\n",
    "\n",
    "# Testing the function\n",
    "test_string = input(\"Enter a string: \")\n",
    "display_backwards(test_string)"
   ]
  },
  {
   "cell_type": "markdown",
   "id": "0eff218b",
   "metadata": {},
   "source": [
    "### 6.\tLook at the following statement: levels = 'Beginner, Average, Advanced, Expert'\n",
    "### Write a statement that splits this string, creating the following list: ['Beginner', 'Average', 'Advanced', 'Expert']"
   ]
  },
  {
   "cell_type": "code",
   "execution_count": 67,
   "id": "372cad76",
   "metadata": {},
   "outputs": [
    {
     "name": "stdout",
     "output_type": "stream",
     "text": [
      "['Beginner', 'Average', 'Advanced', 'Expert']\n"
     ]
    }
   ],
   "source": [
    "levels = 'Beginner, Average, Advanced, Expert'\n",
    "levels_list = levels.split(', ')\n",
    "print(levels_list)"
   ]
  },
  {
   "cell_type": "markdown",
   "id": "44c6c11a",
   "metadata": {},
   "source": [
    "### 1.\tAt the university, passwords for the campus computer system must meet the following requirements: \n",
    "### • The password must be at least seven characters long. \n",
    "### • It must contain at least one uppercase letter. \n",
    "### • It must contain at least one lowercase letter. \n",
    "### • It must contain at least one numeric digit. \n",
    "### When a student sets up his or her password, the password must be validated to ensure it meets these requirements.  You have been asked to write the code that performs this validtion. You decide to write a function named valid_password that accepts the password as an argument and returns either true or false, to indicate whether it is valid."
   ]
  },
  {
   "cell_type": "code",
   "execution_count": 69,
   "id": "e95b6a15",
   "metadata": {},
   "outputs": [
    {
     "name": "stdout",
     "output_type": "stream",
     "text": [
      "Enter your password: abc#1122\n",
      "That password is not valid.\n",
      "Enter your password: abcD@1122\n",
      "That is a valid password.\n"
     ]
    }
   ],
   "source": [
    "def valid_password(password):\n",
    "    # Check for the length requirement\n",
    "    if len(password) < 7:\n",
    "        return False\n",
    "    \n",
    "    # Check for at least one uppercase letter\n",
    "    if not any(char.isupper() for char in password):\n",
    "        return False\n",
    "\n",
    "    # Check for at least one lowercase letter\n",
    "    if not any(char.islower() for char in password):\n",
    "        return False\n",
    "\n",
    "    # Check for at least one numeric digit\n",
    "    if not any(char.isdigit() for char in password):\n",
    "        return False\n",
    "\n",
    "    # If all checks are passed\n",
    "    return True\n",
    "\n",
    "# Test the function\n",
    "while True:\n",
    "    password = input(\"Enter your password: \")\n",
    "    if valid_password(password):\n",
    "        print(\"That is a valid password.\")\n",
    "        break\n",
    "    else:\n",
    "        print(\"That password is not valid.\")"
   ]
  },
  {
   "cell_type": "markdown",
   "id": "a62df131",
   "metadata": {},
   "source": [
    "### 2.\tWrite a program that gets strings containing a person’s first and last name as separate values, and then displays their “initials”, “name in address book”, and “username”. For example, if the user enters a first name of “John” and a last name of “Smith”, the program should display “J.S.”, “John SMITH”, and “jsmith”.\n"
   ]
  },
  {
   "cell_type": "code",
   "execution_count": 70,
   "id": "18bc3eed",
   "metadata": {},
   "outputs": [
    {
     "name": "stdout",
     "output_type": "stream",
     "text": [
      "Enter the first name: Ali\n",
      "Enter the last name: Nawaz\n",
      "Initials: A.N.\n",
      "Name in address book: Ali NAWAZ\n",
      "Username: anawaz\n"
     ]
    }
   ],
   "source": [
    "def get_initials(first_name, last_name):\n",
    "    return first_name[0] + \".\" + last_name[0] + \".\"\n",
    "\n",
    "def get_address_book_name(first_name, last_name):\n",
    "    return first_name + \" \" + last_name.upper()\n",
    "\n",
    "def get_username(first_name, last_name):\n",
    "    return first_name[0].lower() + last_name.lower()\n",
    "\n",
    "# Main code\n",
    "first_name = input(\"Enter the first name: \")\n",
    "last_name = input(\"Enter the last name: \")\n",
    "\n",
    "initials = get_initials(first_name, last_name)\n",
    "address_book_name = get_address_book_name(first_name, last_name)\n",
    "username = get_username(first_name, last_name)\n",
    "\n",
    "print(f\"Initials: {initials}\")\n",
    "print(f\"Name in address book: {address_book_name}\")\n",
    "print(f\"Username: {username}\")"
   ]
  },
  {
   "attachments": {
    "Picture%202.png": {
     "image/png": "[encoded data removed]"
    }
   },
   "cell_type": "markdown",
   "id": "cb0e97d8",
   "metadata": {},
   "source": [
    "### 3.\tMorse code is a code where each letter of the English alphabet, each digit, and various punctuation characters are represented by a series of dots and dashes\n",
    "![Picture%202.png](attachment:Picture%202.png)\n",
    "### Write a program that asks the user to enter a string, then converts that string to Morse code.:"
   ]
  },
  {
   "cell_type": "code",
   "execution_count": 71,
   "id": "e0cb17a1",
   "metadata": {},
   "outputs": [
    {
     "name": "stdout",
     "output_type": "stream",
     "text": [
      "Enter a string to convert to Morse code: Ali Nawaz\n",
      "Morse Code: .- .-.. .. -. .- .-- .- --..\n"
     ]
    }
   ],
   "source": [
    "# Morse Code Mapping\n",
    "MORSE_CODE_DICT = {\n",
    "    'A': '.-', 'B': '-...', 'C': '-.-.', 'D': '-..', 'E': '.', 'F': '..-.', 'G': '--.', 'H': '....', 'I': '..', 'J': '.---',\n",
    "    'K': '-.-', 'L': '.-..', 'M': '--', 'N': '-.', 'O': '---', 'P': '.--.', 'Q': '--.-', 'R': '.-.', 'S': '...', 'T': '-',\n",
    "    'U': '..-', 'V': '...-', 'W': '.--', 'X': '-..-', 'Y': '-.--', 'Z': '--..',\n",
    "\n",
    "    '0': '-----', '1': '.----', '2': '..---', '3': '...--', '4': '....-', '5': '.....',\n",
    "    '6': '-....', '7': '--...', '8': '---..', '9': '----.',\n",
    "\n",
    "    ',': '--..--', '.': '.-.-.-', '?': '..--..', ';': '-.-.-.', ':': '---...', \"'\": '.----.', '-': '-....-', '/': '-..-.'\n",
    "}\n",
    "\n",
    "def string_to_morse(input_string):\n",
    "    return ' '.join(MORSE_CODE_DICT[char.upper()] for char in input_string if char.upper() in MORSE_CODE_DICT)\n",
    "\n",
    "# Main code\n",
    "user_input = input(\"Enter a string to convert to Morse code: \")\n",
    "morse_output = string_to_morse(user_input)\n",
    "print(f\"Morse Code: {morse_output}\")"
   ]
  },
  {
   "cell_type": "markdown",
   "id": "543df221",
   "metadata": {},
   "source": [
    "### 4.\tWrite a program that accepts as input a sentence in which all of the words are run together, but the first character of each word is uppercase. Convert the sentence to a string in which the words are separated by spaces, and only the first word starts with an uppercase letter. For example the string “StopAndSmellTheRoses.” would be converted to “Stop and smell the roses.”"
   ]
  },
  {
   "cell_type": "code",
   "execution_count": 73,
   "id": "e988b7d3",
   "metadata": {},
   "outputs": [
    {
     "name": "stdout",
     "output_type": "stream",
     "text": [
      "Enter the sentence: StopAndSmellTheRoses.\n",
      "Converted Sentence: Stop and smell the roses.\n"
     ]
    }
   ],
   "source": [
    "def convert_sentence(sentence):\n",
    "    # Initialize an empty list to store words\n",
    "    words = []\n",
    "    start = 0\n",
    "\n",
    "    # Iterate over characters in the sentence\n",
    "    for i in range(1, len(sentence)):\n",
    "        if sentence[i].isupper():\n",
    "            # When we find an uppercase letter, take the previous word and append to words list\n",
    "            words.append(sentence[start:i])\n",
    "            start = i\n",
    "\n",
    "    # Append the last word\n",
    "    words.append(sentence[start:])\n",
    "\n",
    "    # Convert the first word to title case and the rest to lowercase\n",
    "    words = [words[0]] + [word.lower() for word in words[1:]]\n",
    "\n",
    "    # Join words with spaces to form the converted sentence\n",
    "    return ' '.join(words)\n",
    "\n",
    "# Main code\n",
    "user_input = input(\"Enter the sentence: \")\n",
    "converted_output = convert_sentence(user_input)\n",
    "print(f\"Converted Sentence: {converted_output}\")"
   ]
  },
  {
   "attachments": {},
   "cell_type": "markdown",
   "id": "c25e95c3",
   "metadata": {},
   "source": [
    "## Week 11, Lab 09\n",
    "### File I/O\n",
    "### CLO: This lab maps to CLO# 01 and 03"
   ]
  },
  {
   "attachments": {},
   "cell_type": "markdown",
   "id": "cdf9f939",
   "metadata": {},
   "source": [
    "### 1.\tWrite a program that reads 10 integer numbers from a file “num.txt” then calculate the average, maximum number, minimum number, and number of values above the average. \n",
    "### •\tRead numbers from a file.\n",
    "### •\tCalculate the average of these numbers.\n",
    "### •\tFind the maximum and minimum numbers.\n",
    "### •\tCount the number of values above the average."
   ]
  },
  {
   "cell_type": "code",
   "execution_count": 74,
   "id": "63aabdfc",
   "metadata": {},
   "outputs": [
    {
     "name": "stdout",
     "output_type": "stream",
     "text": [
      "num.txt has been created with 10 random integers.\n",
      "Average: 49.1\n",
      "Maximum Number: 82\n",
      "Minimum Number: 4\n",
      "Number of values above the average: 6\n"
     ]
    }
   ],
   "source": [
    "import random\n",
    "\n",
    "# Generate 10 random integers between 1 and 100\n",
    "random_numbers = [random.randint(1, 100) for _ in range(10)]\n",
    "\n",
    "# Create and write to num.txt\n",
    "with open('num.txt', 'w') as file:\n",
    "    for number in random_numbers:\n",
    "        file.write(f\"{number}\\n\")\n",
    "print(\"num.txt has been created with 10 random integers.\")\n",
    "def read_numbers(filename):\n",
    "    numbers = []\n",
    "    with open(filename, 'r') as file:\n",
    "        for line in file:\n",
    "            numbers.append(int(line.strip()))\n",
    "    return numbers\n",
    "\n",
    "def calculate_average(numbers):\n",
    "    return sum(numbers) / len(numbers)\n",
    "\n",
    "def find_max(numbers):\n",
    "    return max(numbers)\n",
    "\n",
    "def find_min(numbers):\n",
    "    return min(numbers)\n",
    "\n",
    "def count_above_average(numbers, average):\n",
    "    return sum(1 for number in numbers if number > average)\n",
    "\n",
    "# Main program\n",
    "numbers = read_numbers(\"num.txt\")\n",
    "average = calculate_average(numbers)\n",
    "max_number = find_max(numbers)\n",
    "min_number = find_min(numbers)\n",
    "above_average_count = count_above_average(numbers, average)\n",
    "\n",
    "print(f\"Average: {average}\")\n",
    "print(f\"Maximum Number: {max_number}\")\n",
    "print(f\"Minimum Number: {min_number}\")\n",
    "print(f\"Number of values above the average: {above_average_count}\")"
   ]
  },
  {
   "attachments": {},
   "cell_type": "markdown",
   "id": "4870c1f1",
   "metadata": {},
   "source": [
    "### 2.\tKevin is a freelance video producer who makes TV commercials for local businesses. When he makes a commercial, he usually films several short videos. Later, he puts these short videos together to make the final commercial. He has asked you to write the following two programs. \n",
    "### 1.  A program that allows him to enter the running time (in seconds) of each short video in a project. The running times are saved to a file.\n",
    "### 2.  A program that reads the contents of the file, displays the running times, and then displays the total running time of all the segments."
   ]
  },
  {
   "cell_type": "code",
   "execution_count": 77,
   "id": "809ca970",
   "metadata": {},
   "outputs": [
    {
     "name": "stdout",
     "output_type": "stream",
     "text": [
      "Enter the running time for each video segment. Enter 'done' when finished:\n",
      "Running time in seconds (or 'done'): done\n",
      "Running times saved to running_times.txt.\n",
      "Running times for each video segment:\n",
      "\n",
      "The total running time is: 0 seconds.\n"
     ]
    }
   ],
   "source": [
    "def save_running_times():\n",
    "    running_times = []\n",
    "    print(\"Enter the running time for each video segment. Enter 'done' when finished:\")\n",
    "\n",
    "    # Keep asking for input until 'done' is entered\n",
    "    while True:\n",
    "        time_input = input(\"Running time in seconds (or 'done'): \")\n",
    "        if time_input.lower() == 'done':\n",
    "            break\n",
    "        try:\n",
    "            running_time = int(time_input)\n",
    "            running_times.append(running_time)\n",
    "        except ValueError:\n",
    "            print(\"Please enter a valid number or 'done'.\")\n",
    "\n",
    "    # Save the running times to a file\n",
    "    with open('running_times.txt', 'w') as file:\n",
    "        for time in running_times:\n",
    "            file.write(f\"{time}\\n\")\n",
    "\n",
    "    print(\"Running times saved to running_times.txt.\")\n",
    "\n",
    "save_running_times()\n",
    "def read_and_total_running_times():\n",
    "    try:\n",
    "        with open('running_times.txt', 'r')done as file:\n",
    "            running_times = file.readlines()\n",
    "\n",
    "        # Convert the list of strings to a list of integers\n",
    "        running_times = [int(time.strip()) for time in running_times]\n",
    "\n",
    "        # Display the running times\n",
    "        print(\"Running times for each video segment:\")\n",
    "        for time in running_times:\n",
    "            print(time, \"seconds\")\n",
    "\n",
    "        # Calculate and display the total running time\n",
    "        total_time = sum(running_times)\n",
    "        print(f\"\\nThe total running time is: {total_time} seconds.\")\n",
    "    except FileNotFoundError:\n",
    "        print(\"The file running_times.txt does not exist.\")\n",
    "    except ValueError:\n",
    "        print(\"The file running_times.txt contains non-integer values.\")\n",
    "\n",
    "read_and_total_running_times()"
   ]
  },
  {
   "attachments": {},
   "cell_type": "markdown",
   "id": "9ecddd82",
   "metadata": {},
   "source": [
    "### 3.\tWrite a program that searches for a name inside a file “Names.txt” which keeps a list of student’s names. The program should count and display the number of occurrences for a name inside the file. "
   ]
  },
  {
   "cell_type": "code",
   "execution_count": 78,
   "id": "81bf497b",
   "metadata": {},
   "outputs": [
    {
     "name": "stdout",
     "output_type": "stream",
     "text": [
      "Enter the name you are searching for: name\n",
      "The file Names.txt does not exist.\n"
     ]
    }
   ],
   "source": [
    "def search_name_in_file(filename, search_name):\n",
    "    try:\n",
    "        with open(filename, 'r') as file:\n",
    "            # Read the contents of the file\n",
    "            names = file.read().splitlines()\n",
    "            \n",
    "        # Count occurrences of the given name\n",
    "        count = names.count(search_name)\n",
    "        print(f\"The name '{search_name}' occurs {count} time(s) in the file.\")\n",
    "    except FileNotFoundError:\n",
    "        print(f\"The file {filename} does not exist.\")\n",
    "    except Exception as e:\n",
    "        print(f\"An error occurred: {e}\")\n",
    "\n",
    "# The name of the file\n",
    "filename = 'Names.txt'\n",
    "\n",
    "# User input for the name to search\n",
    "search_name = input(\"Enter the name you are searching for: \")\n",
    "\n",
    "# Function call\n",
    "search_name_in_file(filename, search_name)"
   ]
  },
  {
   "cell_type": "markdown",
   "id": "1f21559d",
   "metadata": {},
   "source": [
    "### Write a program that asks the user for his or her name, then asks the user to enter a sentence that describes himself or herself. Here is an example of the program’s screen:\n",
    "### Enter your name: Julie Taylor \n",
    "### Describe yourself: I am a computer science major, a member of the Jazz club, and I hope to work as a mobile app developer after I graduate.\n",
    "\n",
    "### Once the user has entered the requested input, the program should create an HTML file, containing the input, for a simple Web page.\n",
    "### Here is an example of the HTML content, using the sample input previously shown: \n"
   ]
  },
  {
   "cell_type": "code",
   "execution_count": null,
   "id": "81505614",
   "metadata": {},
   "outputs": [],
   "source": [
    "<html>\n",
    "<head>\n",
    "</head>\n",
    "<body>\n",
    "<center>\n",
    "<h1>Julie Taylor</h1>\n",
    " </center>\n",
    " <hr />\n",
    " I am a computer science major, a member of the Jazz club, and I hope to work as a mobile app developer after I graduate.\n",
    " <hr />\n",
    "</body>\n",
    "</html>"
   ]
  },
  {
   "cell_type": "code",
   "execution_count": 79,
   "id": "2b6d4830",
   "metadata": {},
   "outputs": [
    {
     "name": "stdout",
     "output_type": "stream",
     "text": [
      "Enter your name: ali\n",
      "Describe yourself: my name is ali\n",
      "HTML file 'ali.html' has been created.\n"
     ]
    }
   ],
   "source": [
    "def create_html_file():\n",
    "    # Ask the user for their name and description.\n",
    "    name = input(\"Enter your name: \")\n",
    "    description = input(\"Describe yourself: \")\n",
    "\n",
    "    # Create the content of the HTML file.\n",
    "    html_content = f\"\"\"<html>\n",
    "<head>\n",
    "<title>{name}</title>\n",
    "</head>\n",
    "<body>\n",
    "<center>\n",
    "<h1>{name}</h1>\n",
    "</center>\n",
    "<hr />\n",
    "{description}\n",
    "<hr />\n",
    "</body>\n",
    "</html>\"\"\"\n",
    "\n",
    "    # Write the content to an HTML file.\n",
    "    filename = f\"{name.replace(' ', '_').lower()}.html\"\n",
    "    with open(filename, 'w') as file:\n",
    "        file.write(html_content)\n",
    "\n",
    "    print(f\"HTML file '{filename}' has been created.\")\n",
    "\n",
    "# Run the function to create the HTML file.\n",
    "create_html_file()\n"
   ]
  },
  {
   "attachments": {},
   "cell_type": "markdown",
   "id": "0e87404e",
   "metadata": {},
   "source": [
    "### 3.\tThe Springfork Amateur Golf Club has a tournament every weekend. The club president has asked you to write two programs:\n",
    "### 1. A program that will read each player’s name and golf score as keyboard input, then save these as records in a file named golf.txt. (Each record will have a field for the player’s name and a field for the player’s score.)\n",
    "### 2. A program that reads the records from the golf.txt file and displays them."
   ]
  },
  {
   "cell_type": "code",
   "execution_count": 80,
   "id": "b859f6b3",
   "metadata": {},
   "outputs": [
    {
     "name": "stdout",
     "output_type": "stream",
     "text": [
      "Enter player's name (or enter 'exit' to quit): Ali\n",
      "Enter Ali's score: 34\n",
      "Enter player's name (or enter 'exit' to quit): \n",
      "Enter 's score: 344\n",
      "Enter player's name (or enter 'exit' to quit): quit\n",
      "Enter quit's score: exit\n",
      "Enter player's name (or enter 'exit' to quit): \n",
      "Enter 's score: \n",
      "Enter player's name (or enter 'exit' to quit): \n",
      "Enter 's score: \n",
      "Enter player's name (or enter 'exit' to quit): \n",
      "Enter 's score: \n",
      "Enter player's name (or enter 'exit' to quit): \n",
      "Enter 's score: \n",
      "Enter player's name (or enter 'exit' to quit): exit\n",
      "Scores saved to golf.txt.\n"
     ]
    }
   ],
   "source": [
    "def save_golf_scores():\n",
    "    # Open the file in write mode. If the file does not exist, it will be created.\n",
    "    with open('golf.txt', 'w') as file:\n",
    "        while True:\n",
    "            # Get player's name and score.\n",
    "            player_name = input(\"Enter player's name (or enter 'exit' to quit): \")\n",
    "            if player_name.lower() == 'exit':\n",
    "                break  # Exit the loop if the input is 'exit'.\n",
    "            \n",
    "            score = input(f\"Enter {player_name}'s score: \")\n",
    "            \n",
    "            # Write the player's name and score as a record in the file.\n",
    "            file.write(f\"{player_name}, {score}\\n\")\n",
    "    \n",
    "    print(\"Scores saved to golf.txt.\")\n",
    "\n",
    "save_golf_scores()\n"
   ]
  },
  {
   "attachments": {},
   "cell_type": "markdown",
   "id": "8a091aab",
   "metadata": {},
   "source": [
    "## Week 12, Lab 10\n",
    "### Solve different problems/exercises on One Dimensional Lists\n",
    "### CLO: This lab maps to CLO# 04 and 05"
   ]
  },
  {
   "attachments": {},
   "cell_type": "markdown",
   "id": "ea947725",
   "metadata": {},
   "source": [
    "### 1.\tWrite a program that ask the user to insert list of K numbers then do the following:\n",
    "### -\tPrompt the user to fill the list.\n",
    "### -\tDisplay the list items in normal order.\n",
    "### -\tDisplay the list items in reverse order.\n",
    "### -\tFind the average number in the list.\n",
    "### -\tSort the list number from smallest to biggest.\n",
    "### -\tCount and display the number of add and even values.\n",
    "### -\tCopy the list items to another list."
   ]
  },
  {
   "cell_type": "code",
   "execution_count": 81,
   "id": "eca1ac04",
   "metadata": {},
   "outputs": [
    {
     "name": "stdout",
     "output_type": "stream",
     "text": [
      "How many numbers will you enter? 2\n",
      "Enter number 1/2: 3\n",
      "Enter number 2/2: 4\n",
      "\n",
      "List in normal order:\n",
      "[3, 4]\n",
      "\n",
      "List in reverse order:\n",
      "[4, 3]\n",
      "\n",
      "Average number in the list: 3.5\n",
      "\n",
      "Sorted numbers from smallest to biggest:\n",
      "[3, 4]\n",
      "\n",
      "Number of odd values: 1\n",
      "Number of even values: 1\n",
      "\n",
      "Copied list:\n",
      "[3, 4]\n"
     ]
    }
   ],
   "source": [
    "def process_numbers():\n",
    "    # Ask the user for the count of numbers (K)\n",
    "    k = int(input(\"How many numbers will you enter? \"))\n",
    "\n",
    "    # Prompt the user to fill the list\n",
    "    numbers = []\n",
    "    for i in range(k):\n",
    "        number = int(input(f\"Enter number {i+1}/{k}: \"))\n",
    "        numbers.append(number)\n",
    "\n",
    "    # Display the list items in normal order\n",
    "    print(\"\\nList in normal order:\")\n",
    "    print(numbers)\n",
    "\n",
    "    # Display the list items in reverse order\n",
    "    print(\"\\nList in reverse order:\")\n",
    "    print(numbers[::-1])\n",
    "\n",
    "    # Find the average number in the list\n",
    "    average = sum(numbers) / len(numbers)\n",
    "    print(f\"\\nAverage number in the list: {average}\")\n",
    "\n",
    "    # Sort the list numbers from smallest to biggest\n",
    "    sorted_numbers = sorted(numbers)\n",
    "    print(\"\\nSorted numbers from smallest to biggest:\")\n",
    "    print(sorted_numbers)\n",
    "\n",
    "    # Count and display the number of odd and even values\n",
    "    odd_count = len([num for num in numbers if num % 2 != 0])\n",
    "    even_count = len(numbers) - odd_count\n",
    "    print(f\"\\nNumber of odd values: {odd_count}\")\n",
    "    print(f\"Number of even values: {even_count}\")\n",
    "\n",
    "    # Copy the list items to another list\n",
    "    copied_list = numbers[:]\n",
    "    print(\"\\nCopied list:\")\n",
    "    print(copied_list)\n",
    "process_numbers()"
   ]
  },
  {
   "cell_type": "markdown",
   "id": "d5cf983b",
   "metadata": {},
   "source": [
    "### 2.\tAssume scores is a list of randomly-ordered numbers between 0 and 100. Write code that sorts the list, reverses the order of the items in the list, and prints the biggest value in the list."
   ]
  },
  {
   "cell_type": "code",
   "execution_count": 82,
   "id": "8f747a67",
   "metadata": {},
   "outputs": [
    {
     "name": "stdout",
     "output_type": "stream",
     "text": [
      "The biggest value in the list is: 100\n"
     ]
    }
   ],
   "source": [
    "# Assume scores is a list of randomly-ordered numbers between 0 and 100\n",
    "scores = [45, 88, 4, 68, 90, 24, 77, 100, 50, 30]\n",
    "\n",
    "# Sort the list\n",
    "scores.sort()\n",
    "\n",
    "# Reverse the order of the list\n",
    "scores.reverse()\n",
    "\n",
    "# Print the biggest value in the list (which is now the first item after reversing)\n",
    "print(\"The biggest value in the list is:\", scores[0])"
   ]
  },
  {
   "cell_type": "markdown",
   "id": "ec9fde8f",
   "metadata": {},
   "source": [
    "### 3.\tWrite a Python program to remove duplicates simple without using function from a list of strings.\n"
   ]
  },
  {
   "cell_type": "code",
   "execution_count": 83,
   "id": "3a626a83",
   "metadata": {},
   "outputs": [
    {
     "name": "stdout",
     "output_type": "stream",
     "text": [
      "['date', 'cherry', 'banana', 'apple']\n"
     ]
    }
   ],
   "source": [
    "# Sample list with duplicates\n",
    "string_list = [\"apple\", \"banana\", \"cherry\", \"apple\", \"cherry\", \"date\"]\n",
    "\n",
    "# Remove duplicates by converting to a set and back to a list\n",
    "unique_strings = list(set(string_list))\n",
    "\n",
    "# Display the list without duplicates\n",
    "print(unique_strings)"
   ]
  },
  {
   "cell_type": "markdown",
   "id": "9fe0d131",
   "metadata": {},
   "source": [
    "### 4.\tWrite a Python program to print the numbers of a specified list after removing even numbers from it."
   ]
  },
  {
   "cell_type": "code",
   "execution_count": 84,
   "id": "f25a4d2e",
   "metadata": {},
   "outputs": [
    {
     "name": "stdout",
     "output_type": "stream",
     "text": [
      "[1, 3, 5, 7, 9]\n"
     ]
    }
   ],
   "source": [
    "# Sample list with numbers\n",
    "number_list = [1, 2, 3, 4, 5, 6, 7, 8, 9, 10]\n",
    "\n",
    "# Use a list comprehension to filter out even numbers\n",
    "odd_numbers = [num for num in number_list if num % 2 != 0]\n",
    "\n",
    "# Print the list after removing even numbers\n",
    "print(odd_numbers)"
   ]
  },
  {
   "cell_type": "markdown",
   "id": "f064cf4d",
   "metadata": {},
   "source": [
    "### 5.\tWrite a Python program that takes two lists and prints True if they have at least one common member."
   ]
  },
  {
   "cell_type": "code",
   "execution_count": 85,
   "id": "27f99e42",
   "metadata": {},
   "outputs": [
    {
     "name": "stdout",
     "output_type": "stream",
     "text": [
      "True\n"
     ]
    }
   ],
   "source": [
    "def check_common_member(list1, list2):\n",
    "    # Convert lists to sets and check if their intersection is non-empty\n",
    "    return not set(list1).isdisjoint(set(list2))\n",
    "\n",
    "# Sample lists\n",
    "list1 = [1, 2, 3, 4, 5]\n",
    "list2 = [5, 6, 7, 8, 9]\n",
    "\n",
    "# Check if the two lists have a common member\n",
    "print(check_common_member(list1, list2))"
   ]
  },
  {
   "cell_type": "markdown",
   "id": "48192b8d",
   "metadata": {},
   "source": [
    "### 6.\tAssume the names variable references a list of strings. Write code that determines whether 'Ruby' is in the names list. If it is, display the message 'Hello Ruby”. Otherwise, display the message “Bye Ruby”."
   ]
  },
  {
   "cell_type": "code",
   "execution_count": 86,
   "id": "2fec9d44",
   "metadata": {},
   "outputs": [
    {
     "name": "stdout",
     "output_type": "stream",
     "text": [
      "Hello Ruby\n"
     ]
    }
   ],
   "source": [
    "names = ['Alice', 'Bob', 'Charlie', 'Ruby']\n",
    "\n",
    "# Check if 'Ruby' is in the names list\n",
    "if 'Ruby' in names:\n",
    "    print('Hello Ruby')\n",
    "else:\n",
    "    print('No Ruby')"
   ]
  },
  {
   "cell_type": "markdown",
   "id": "53c98469",
   "metadata": {},
   "source": [
    "### 1.\tShamsa owns a small coffee shop, and she has six employees who work as baristas (coffee bartenders). All of the employees have the same hourly pay rate. Megan has asked you to design a program that will allow her to enter the number of hours worked by each employee, then display the amounts of all the employees’ gross pay. \n",
    "\n",
    "\n",
    "### The program should perform the following: \n",
    "### 1. For each employee: get the number of hours worked and store it in a list.\n",
    "### 2. For each list: use the value stored in the element to calculate an employee’s gross pay.\n",
    "### 3. Display the amount of the gross pay for each employee. "
   ]
  },
  {
   "cell_type": "code",
   "execution_count": 87,
   "id": "5d804e7e",
   "metadata": {},
   "outputs": [
    {
     "name": "stdout",
     "output_type": "stream",
     "text": [
      "Enter the hours worked by employee 1: 2\n",
      "Enter the hours worked by employee 2: 4\n",
      "Enter the hours worked by employee 3: 5\n",
      "Enter the hours worked by employee 4: 6\n",
      "Enter the hours worked by employee 5: 7\n",
      "Enter the hours worked by employee 6: 4\n",
      "\n",
      "Enter the hourly pay rate: 8\n",
      "\n",
      "Gross pay for employee 1: $16.00\n",
      "Gross pay for employee 2: $32.00\n",
      "Gross pay for employee 3: $40.00\n",
      "Gross pay for employee 4: $48.00\n",
      "Gross pay for employee 5: $56.00\n",
      "Gross pay for employee 6: $32.00\n"
     ]
    }
   ],
   "source": [
    "# Initialize an empty list to store the hours worked by each employee\n",
    "hours_worked = []\n",
    "\n",
    "# Number of employees\n",
    "num_employees = 6\n",
    "\n",
    "# Get the number of hours worked by each employee\n",
    "for i in range(1, num_employees + 1):\n",
    "    hours = float(input(f\"Enter the hours worked by employee {i}: \"))\n",
    "    hours_worked.append(hours)\n",
    "\n",
    "# Get the hourly pay rate\n",
    "pay_rate = float(input(\"\\nEnter the hourly pay rate: \"))\n",
    "\n",
    "# Calculate and display the gross pay for each employee\n",
    "print()\n",
    "for i, hours in enumerate(hours_worked, start=1):\n",
    "    gross_pay = hours * pay_rate\n",
    "    print(f\"Gross pay for employee {i}: ${gross_pay:.2f}\")"
   ]
  },
  {
   "cell_type": "markdown",
   "id": "a4268216",
   "metadata": {},
   "source": [
    "### 2.\tDesign a program that lets the user enter the total rainfall for each of 12 months into a list. The program should calculate and display the total rainfall for the year, the average monthly rainfall, the months with the highest and lowest amounts."
   ]
  },
  {
   "cell_type": "code",
   "execution_count": 89,
   "id": "b14b3cf3",
   "metadata": {},
   "outputs": [
    {
     "name": "stdout",
     "output_type": "stream",
     "text": [
      "Enter the total rainfall for January: 3\n",
      "Enter the total rainfall for February: 1\n",
      "Enter the total rainfall for March: 2\n",
      "Enter the total rainfall for April: 4\n",
      "Enter the total rainfall for May: 5\n",
      "Enter the total rainfall for June: 6\n",
      "Enter the total rainfall for July: 7\n",
      "Enter the total rainfall for August: 4\n",
      "Enter the total rainfall for September: 7\n",
      "Enter the total rainfall for October: 8\n",
      "Enter the total rainfall for November: 4\n",
      "Enter the total rainfall for December: 3\n",
      "\n",
      "Total rainfall for the year: 54.00 inches\n",
      "Average monthly rainfall: 4.50 inches\n",
      "Highest rainfall was in October with 8.00 inches\n",
      "Lowest rainfall was in February with 1.00 inches\n"
     ]
    }
   ],
   "source": [
    "# Initialize a list to store the rainfall for each month.\n",
    "monthly_rainfall = []\n",
    "months = [\"January\", \"February\", \"March\", \"April\", \"May\", \"June\", \"July\",\n",
    "          \"August\", \"September\", \"October\", \"November\", \"December\"]\n",
    "\n",
    "# Get the total rainfall for each month.\n",
    "for month in months:\n",
    "    rainfall = float(input(f\"Enter the total rainfall for {month}: \"))\n",
    "    monthly_rainfall.append(rainfall)\n",
    "\n",
    "# Calculate the total rainfall for the year.\n",
    "total_rainfall = sum(monthly_rainfall)\n",
    "\n",
    "# Calculate the average monthly rainfall.\n",
    "average_rainfall = total_rainfall / 12\n",
    "\n",
    "# Determine the month with the highest and lowest rainfall.\n",
    "max_rainfall = max(monthly_rainfall)\n",
    "min_rainfall = min(monthly_rainfall)\n",
    "max_rainfall_month = months[monthly_rainfall.index(max_rainfall)]\n",
    "min_rainfall_month = months[monthly_rainfall.index(min_rainfall)]\n",
    "\n",
    "# Display the results.\n",
    "print(f\"\\nTotal rainfall for the year: {total_rainfall:.2f} inches\")\n",
    "print(f\"Average monthly rainfall: {average_rainfall:.2f} inches\")\n",
    "print(f\"Highest rainfall was in {max_rainfall_month} with {max_rainfall:.2f} inches\")\n",
    "print(f\"Lowest rainfall was in {min_rainfall_month} with {min_rainfall:.2f} inches\")"
   ]
  },
  {
   "cell_type": "markdown",
   "id": "17c8dde3",
   "metadata": {},
   "source": [
    "### 3.\tDesign a program that asks the user to enter a series of 20 numbers. The program should store the numbers in a list then display the following data: \n",
    "### • The lowest number in the list\n",
    "### • The highest number in the list\n",
    "### • The total of the numbers in the list\n",
    "### • The average of the numbers in the list"
   ]
  },
  {
   "cell_type": "code",
   "execution_count": 90,
   "id": "a6336e20",
   "metadata": {},
   "outputs": [
    {
     "name": "stdout",
     "output_type": "stream",
     "text": [
      "Enter number 1 of 20: 1\n",
      "Enter number 2 of 20: 2\n",
      "Enter number 3 of 20: 2\n",
      "Enter number 4 of 20: 3\n",
      "Enter number 5 of 20: 4\n",
      "Enter number 6 of 20: 4\n",
      "Enter number 7 of 20: 5\n",
      "Enter number 8 of 20: 5\n",
      "Enter number 9 of 20: 6\n",
      "Enter number 10 of 20: 7\n",
      "Enter number 11 of 20: 7\n",
      "Enter number 12 of 20: 8\n",
      "Enter number 13 of 20: 9\n",
      "Enter number 14 of 20: 3\n",
      "Enter number 15 of 20: 4\n",
      "Enter number 16 of 20: 5\n",
      "Enter number 17 of 20: 5\n",
      "Enter number 18 of 20: 6\n",
      "Enter number 19 of 20: 6\n",
      "Enter number 20 of 20: 6\n",
      "\n",
      "--- Summary of Entered Numbers ---\n",
      "The lowest number: 1.0\n",
      "The highest number: 9.0\n",
      "The total of the numbers: 98.0\n",
      "The average of the numbers: 4.90\n"
     ]
    }
   ],
   "source": [
    "# This list will hold the 20 numbers\n",
    "numbers = []\n",
    "\n",
    "# Prompt the user to enter 20 numbers\n",
    "for i in range(1, 21):\n",
    "    number = float(input(f\"Enter number {i} of 20: \"))\n",
    "    numbers.append(number)\n",
    "\n",
    "# Calculate the lowest, highest, total, and average\n",
    "lowest_number = min(numbers)\n",
    "highest_number = max(numbers)\n",
    "total = sum(numbers)\n",
    "average = total / len(numbers)\n",
    "\n",
    "# Display the results\n",
    "print(\"\\n--- Summary of Entered Numbers ---\")\n",
    "print(f\"The lowest number: {lowest_number}\")\n",
    "print(f\"The highest number: {highest_number}\")\n",
    "print(f\"The total of the numbers: {total}\")\n",
    "print(f\"The average of the numbers: {average:.2f}\")"
   ]
  },
  {
   "cell_type": "markdown",
   "id": "60da6199",
   "metadata": {},
   "source": [
    "### 4.\tWrite a Python program to count the number of strings where the string length is 2 or more and the first and last character are same from a given list of strings.\n"
   ]
  },
  {
   "cell_type": "code",
   "execution_count": 91,
   "id": "e802d39e",
   "metadata": {},
   "outputs": [
    {
     "name": "stdout",
     "output_type": "stream",
     "text": [
      "Number of strings: 4\n"
     ]
    }
   ],
   "source": [
    "def count_strings(str_list):\n",
    "    # Initialize the count\n",
    "    count = 0\n",
    "    \n",
    "    # Loop through each string in the list\n",
    "    for s in str_list:\n",
    "        # Check if the string length is 2 or more and the first and last character are the same\n",
    "        if len(s) >= 2 and s[0] == s[-1]:\n",
    "            count += 1\n",
    "            \n",
    "    return count\n",
    "\n",
    "# Given list of strings\n",
    "strings = [\"abc\", \"xyz\", \"aba\", \"1221\", \"bhgsskknb\", \"aa\"]\n",
    "\n",
    "# Call the function and print the result\n",
    "print(f\"Number of strings: {count_strings(strings)}\")"
   ]
  },
  {
   "cell_type": "markdown",
   "id": "7f7b49b6",
   "metadata": {},
   "source": [
    "## Week 13, Lab 11\n",
    "### Solve different problems/exercises on Two Dimensional Lists and Tuple\n",
    "### CLO: This lab maps to CLO# 04 and 05"
   ]
  },
  {
   "cell_type": "markdown",
   "id": "b13cd8f5",
   "metadata": {},
   "source": [
    "### 1.\tWrite a program that ask the user to insert the number of row and columns for a 2D list then do the following:\n",
    "### -\tPrompt the user to fill the list items.\n",
    "### -\tDisplay all the list items.\n",
    "### -\tFind the average of the list.\n",
    "### -\tFind the maximum and minimum number.\n",
    "### -\tCount and display the number of add and even values.\n",
    "### -\tCopy the list items to other 2D list."
   ]
  },
  {
   "cell_type": "code",
   "execution_count": 92,
   "id": "c8283fc3",
   "metadata": {},
   "outputs": [
    {
     "name": "stdout",
     "output_type": "stream",
     "text": [
      "Enter the number of rows: 2\n",
      "Enter the number of columns: 3\n",
      "Enter value for row 1, column 1: 1\n",
      "Enter value for row 1, column 2: 1\n",
      "Enter value for row 1, column 3: 1\n",
      "Enter value for row 2, column 1: 2\n",
      "Enter value for row 2, column 2: 4\n",
      "Enter value for row 2, column 3: 5\n",
      "\n",
      "The 2D list is:\n",
      "1 1 1\n",
      "2 4 5\n",
      "\n",
      "Average of the list: 2.3333333333333335\n",
      "Maximum number: 5\n",
      "Minimum number: 1\n",
      "Number of odd values: 4\n",
      "Number of even values: 2\n",
      "\n",
      "Copied 2D list:\n",
      "1 1 1\n",
      "2 4 5\n"
     ]
    }
   ],
   "source": [
    "def get_2d_list(rows, cols):\n",
    "    \"\"\"Function to prompt the user to fill the 2D list.\"\"\"\n",
    "    return [[int(input(f\"Enter value for row {r+1}, column {c+1}: \")) for c in range(cols)] for r in range(rows)]\n",
    "\n",
    "def display_2d_list(two_d_list):\n",
    "    \"\"\"Function to display all items in a 2D list.\"\"\"\n",
    "    for row in two_d_list:\n",
    "        print(' '.join(map(str, row)))\n",
    "\n",
    "def calculate_average(two_d_list):\n",
    "    \"\"\"Function to calculate the average of a 2D list.\"\"\"\n",
    "    total = sum(sum(row) for row in two_d_list)\n",
    "    count = sum(len(row) for row in two_d_list)\n",
    "    return total / count\n",
    "\n",
    "def find_max_min(two_d_list):\n",
    "    \"\"\"Function to find the max and min in a 2D list.\"\"\"\n",
    "    flat_list = [item for sublist in two_d_list for item in sublist]\n",
    "    return max(flat_list), min(flat_list)\n",
    "\n",
    "def count_odd_even(two_d_list):\n",
    "    \"\"\"Function to count the number of odd and even values in a 2D list.\"\"\"\n",
    "    odd = sum(1 for row in two_d_list for item in row if item % 2 != 0)\n",
    "    even = sum(1 for row in two_d_list for item in row if item % 2 == 0)\n",
    "    return odd, even\n",
    "\n",
    "# Prompt the user for the number of rows and columns\n",
    "num_rows = int(input(\"Enter the number of rows: \"))\n",
    "num_cols = int(input(\"Enter the number of columns: \"))\n",
    "\n",
    "# Get the 2D list from the user\n",
    "two_d_list = get_2d_list(num_rows, num_cols)\n",
    "\n",
    "# Display the list\n",
    "print(\"\\nThe 2D list is:\")\n",
    "display_2d_list(two_d_list)\n",
    "\n",
    "# Calculate and display the average\n",
    "average = calculate_average(two_d_list)\n",
    "print(f\"\\nAverage of the list: {average}\")\n",
    "\n",
    "# Find and display max and min\n",
    "max_value, min_value = find_max_min(two_d_list)\n",
    "print(f\"Maximum number: {max_value}\")\n",
    "print(f\"Minimum number: {min_value}\")\n",
    "\n",
    "# Count and display the number of odd and even values\n",
    "odd_count, even_count = count_odd_even(two_d_list)\n",
    "print(f\"Number of odd values: {odd_count}\")\n",
    "print(f\"Number of even values: {even_count}\")\n",
    "\n",
    "# Copy the 2D list to another 2D list\n",
    "copied_list = [row[:] for row in two_d_list]\n",
    "print(\"\\nCopied 2D list:\")\n",
    "display_2d_list(copied_list)"
   ]
  },
  {
   "cell_type": "markdown",
   "id": "6acdbeaf",
   "metadata": {},
   "source": [
    "### 2.\tWrite a Python program to remove duplicates from a list of strings."
   ]
  },
  {
   "cell_type": "code",
   "execution_count": 93,
   "id": "8a763fdb",
   "metadata": {},
   "outputs": [
    {
     "name": "stdout",
     "output_type": "stream",
     "text": [
      "['orange', 'mango', 'banana', 'apple']\n"
     ]
    }
   ],
   "source": [
    "# Example list with duplicates\n",
    "string_list = [\"apple\", \"banana\", \"apple\", \"orange\", \"banana\", \"mango\"]\n",
    "\n",
    "# Remove duplicates by converting to a set and then back to a list\n",
    "unique_list = list(set(string_list))\n",
    "\n",
    "# Print the list without duplicates\n",
    "print(unique_list)"
   ]
  },
  {
   "cell_type": "markdown",
   "id": "0423a4a8",
   "metadata": {},
   "source": [
    "### 3.\tWrite a Python program to check whether an element exists within a tuple.\n",
    "\n"
   ]
  },
  {
   "cell_type": "code",
   "execution_count": 94,
   "id": "97b7884d",
   "metadata": {},
   "outputs": [
    {
     "name": "stdout",
     "output_type": "stream",
     "text": [
      "Enter the element you want to check for: 2\n",
      "2 exists in the tuple.\n"
     ]
    }
   ],
   "source": [
    "# Example tuple\n",
    "my_tuple = (1, 2, 3, 4, 5, 'hello', 'world')\n",
    "\n",
    "# Prompt the user for an element to search for\n",
    "element = input(\"Enter the element you want to check for: \")\n",
    "\n",
    "# Try to convert the input to an integer. If it fails, keep it as a string.\n",
    "try:\n",
    "    element = int(element)\n",
    "except ValueError:\n",
    "    pass\n",
    "\n",
    "# Check if the element exists in the tuple\n",
    "if element in my_tuple:\n",
    "    print(f\"{element} exists in the tuple.\")\n",
    "else:\n",
    "    print(f\"{element} does not exist in the tuple.\")"
   ]
  },
  {
   "cell_type": "markdown",
   "id": "a12c4674",
   "metadata": {},
   "source": [
    "### 4.\tWrite a Python program to get the 5th element and 5th element from last of a tuple\n",
    "\n"
   ]
  },
  {
   "cell_type": "code",
   "execution_count": 95,
   "id": "c2f69004",
   "metadata": {},
   "outputs": [
    {
     "name": "stdout",
     "output_type": "stream",
     "text": [
      "The 5th element of the tuple is: 5\n",
      "The 5th element from the last of the tuple is: 11\n"
     ]
    }
   ],
   "source": [
    "# Example tuple\n",
    "my_tuple = (1, 2, 3, 4, 5, 6, 7, 8, 9, 10, 11, 12, 13, 14, 15)\n",
    "\n",
    "# Get the 5th element (index 4 as indexing starts from 0)\n",
    "fifth_element = my_tuple[4]\n",
    "\n",
    "# Get the 5th element from the end (index -5)\n",
    "fifth_from_last = my_tuple[-5]\n",
    "\n",
    "# Print the results\n",
    "print(\"The 5th element of the tuple is:\", fifth_element)\n",
    "print(\"The 5th element from the last of the tuple is:\", fifth_from_last)"
   ]
  },
  {
   "attachments": {},
   "cell_type": "markdown",
   "id": "ffba376a",
   "metadata": {},
   "source": [
    "### 1.\tWrite a program that  performs the following:\n",
    "### -\tDeclare a two-dimensions list called matrix that holds integer and has n rows and m columns n and m are defined by the user. \n",
    "### -\tFill the arrays with values generated randomly. \n",
    "### -\tDisplay the elements 1 row per line.\n",
    "### -\tFind and display the average of the elements.\n",
    "### -\tDisplay the content of a column specifies by the user.\n",
    "### -\tDisplay the content of a row specifies by the user.\n",
    "### -\tPrint the average of a column specifies by the user.\n",
    "### -\tPrint the average of a row specifies by the user."
   ]
  },
  {
   "cell_type": "code",
   "execution_count": 98,
   "id": "5e024550",
   "metadata": {},
   "outputs": [
    {
     "name": "stdout",
     "output_type": "stream",
     "text": [
      "Enter the number of rows: 4\n",
      "Enter the number of columns: 4\n",
      "Matrix:\n",
      "4 16 32 98\n",
      "50 14 54 78\n",
      "34 52 83 12\n",
      "22 14 58 7\n",
      "Average of all elements: 39.25\n",
      "Enter a column number to display (0 to M-1): 3\n",
      "Column 3\n",
      "98\n",
      "78\n",
      "12\n",
      "7\n",
      "Enter a row number to display (0 to N-1): 2\n",
      "Row 2\n",
      "34 52 83 12\n",
      "Average of column 3 : 48.75\n",
      "Average of row 2 : 45.25\n"
     ]
    }
   ],
   "source": [
    "import random\n",
    "\n",
    "# Function to create and fill the matrix with random values\n",
    "def create_matrix(n, m):\n",
    "    return [[random.randint(1, 100) for _ in range(m)] for _ in range(n)]\n",
    "\n",
    "# Function to print the matrix\n",
    "def print_matrix(matrix):\n",
    "    for row in matrix:\n",
    "        print(' '.join(map(str, row)))\n",
    "\n",
    "# Function to calculate the average of the matrix elements\n",
    "def calculate_average(matrix):\n",
    "    total = sum(sum(row) for row in matrix)\n",
    "    count = len(matrix) * len(matrix[0])\n",
    "    return total / count\n",
    "\n",
    "# Function to print a specific column\n",
    "def print_column(matrix, col):\n",
    "    for row in matrix:\n",
    "        print(row[col])\n",
    "\n",
    "# Function to print the average of a specific column\n",
    "def column_average(matrix, col):\n",
    "    total = sum(row[col] for row in matrix)\n",
    "    return total / len(matrix)\n",
    "\n",
    "# Function to print the average of a specific row\n",
    "def row_average(matrix, row):\n",
    "    return sum(matrix[row]) / len(matrix[row])\n",
    "\n",
    "# Main program\n",
    "n = int(input(\"Enter the number of rows: \"))\n",
    "m = int(input(\"Enter the number of columns: \"))\n",
    "\n",
    "matrix = create_matrix(n, m)\n",
    "\n",
    "print(\"Matrix:\")\n",
    "print_matrix(matrix)\n",
    "\n",
    "print(\"Average of all elements:\", calculate_average(matrix))\n",
    "\n",
    "col = int(input(\"Enter a column number to display (0 to M-1): \"))\n",
    "print(\"Column\", col)\n",
    "print_column(matrix, col)\n",
    "\n",
    "row = int(input(\"Enter a row number to display (0 to N-1): \"))\n",
    "print(\"Row\", row)\n",
    "print(*matrix[row])\n",
    "\n",
    "print(\"Average of column\", col, \":\", column_average(matrix, col))\n",
    "print(\"Average of row\", row, \":\", row_average(matrix, row))"
   ]
  },
  {
   "cell_type": "markdown",
   "id": "80ae7edd",
   "metadata": {},
   "source": [
    "## Week 13, Lab 12\n",
    "### Practicle Example "
   ]
  },
  {
   "cell_type": "code",
   "execution_count": 99,
   "id": "0b1afb23",
   "metadata": {},
   "outputs": [],
   "source": [
    "# We'll start by creating a dataset, writing it to a file, \n",
    "#reading the data back, and then implementing a basic anomaly \n",
    "# detection algorithm.\n",
    "# Generate synthetic data\n",
    "import random\n",
    "\n",
    "# 100 data points around mean=50\n",
    "data = [random.gauss(mu=50, sigma=10) for _ in range(100)]\n",
    "\n",
    "# Adding 5 anomalies\n",
    "data += [random.gauss(mu=50, sigma=100) for _ in range(5)]  \n",
    "\n",
    "# Write data to a file\n",
    "with open('data.txt', 'w') as file:\n",
    "    for point in data:\n",
    "        file.write(f\"{point}\\n\")"
   ]
  },
  {
   "cell_type": "code",
   "execution_count": 100,
   "id": "2a42df07",
   "metadata": {},
   "outputs": [
    {
     "name": "stdout",
     "output_type": "stream",
     "text": [
      "Anomalies in the dataset: [-21.53600073086308, -159.14693583289665, 112.95883705165147]\n"
     ]
    }
   ],
   "source": [
    "# Next, read the data and implement a basic anomaly detection:\n",
    "\n",
    "# Read data from the file\n",
    "with open('data.txt', 'r') as file:\n",
    "    data = [float(line.strip()) for line in file]\n",
    "\n",
    "# Anomaly detection function\n",
    "def detect_anomalies(data, threshold=2):\n",
    "    mean = sum(data) / len(data)\n",
    "    variance = sum((x - mean) ** 2 for x in data) / len(data)\n",
    "    std_dev = variance ** 0.5\n",
    "\n",
    "    anomalies = []\n",
    "    for i in data:\n",
    "        z_score = (i - mean) / std_dev\n",
    "        if abs(z_score) > threshold:\n",
    "            anomalies.append(i)\n",
    "    return anomalies\n",
    "\n",
    "# Detect anomalies in the dataset\n",
    "anomalies = detect_anomalies(data)\n",
    "print(\"Anomalies in the dataset:\", anomalies)"
   ]
  },
  {
   "cell_type": "code",
   "execution_count": null,
   "id": "81a776d8",
   "metadata": {},
   "outputs": [],
   "source": []
  }
 ],
 "metadata": {
  "kernelspec": {
   "display_name": "Python 3 (ipykernel)",
   "language": "python",
   "name": "python3"
  },
  "language_info": {
   "codemirror_mode": {
    "name": "ipython",
    "version": 3
   },
   "file_extension": ".py",
   "mimetype": "text/x-python",
   "name": "python",
   "nbconvert_exporter": "python",
   "pygments_lexer": "ipython3",
   "version": "3.11.4"
  }
 },
 "nbformat": 4,
 "nbformat_minor": 5
}
